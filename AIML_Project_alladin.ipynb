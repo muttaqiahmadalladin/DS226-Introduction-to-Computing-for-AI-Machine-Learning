{
 "cells": [
  {
   "cell_type": "markdown",
   "id": "9b5ab667",
   "metadata": {},
   "source": [
    "# DS 226 Project\n",
    "\n",
    "## The aim of the project is to build a classification model to predict whether an employee will join or not\n",
    "\n",
    "### Number of observation: 19158\n",
    "\n",
    "#### ***********************************************************************************************************************************************************\n",
    "\n",
    "# Part 1 : importing libraries\n"
   ]
  },
  {
   "cell_type": "code",
   "execution_count": 1,
   "id": "f9c7f1e1",
   "metadata": {},
   "outputs": [],
   "source": [
    "import numpy as np\n",
    "import pandas as pd\n",
    "from matplotlib import pyplot as plt\n",
    "import seaborn as sn\n",
    "from pandas.api.types import CategoricalDtype\n",
    "from scipy.stats import chi2_contingency\n",
    "from scipy.stats import chi2\n",
    "import warnings\n",
    "warnings.filterwarnings('ignore')\n",
    "from sklearn.preprocessing import LabelEncoder, OneHotEncoder , OrdinalEncoder\n",
    "from sklearn.linear_model import LogisticRegression\n",
    "from sklearn.model_selection import train_test_split\n",
    "from sklearn.tree import DecisionTreeClassifier\n",
    "from sklearn import tree\n",
    "from sklearn.naive_bayes import MultinomialNB \n",
    "from sklearn.neighbors import KNeighborsClassifier\n",
    "from sklearn import metrics\n",
    "from sklearn.metrics import classification_report\n",
    "from sklearn.model_selection import cross_val_score\n",
    "from sklearn.metrics import roc_auc_score\n",
    "from sklearn.metrics import roc_curve\n",
    "from sklearn.metrics import confusion_matrix\n",
    "from sklearn.metrics import accuracy_score\n",
    "from sklearn.metrics import plot_roc_curve\n",
    "from sklearn.metrics import f1_score\n",
    "import graphviz \n",
    "from sklearn.ensemble import AdaBoostClassifier\n",
    "from sklearn.ensemble import RandomForestClassifier\n",
    "import tensorflow as tf\n",
    "from tensorflow.keras.models import Sequential\n",
    "from tensorflow.keras.layers import Dense, Dropout, ThresholdedReLU"
   ]
  },
  {
   "cell_type": "markdown",
   "id": "5c4b3c76",
   "metadata": {},
   "source": [
    "#  Part 2: Loading the dataset"
   ]
  },
  {
   "cell_type": "code",
   "execution_count": 2,
   "id": "25fb8f47",
   "metadata": {},
   "outputs": [],
   "source": [
    "train_data=pd.read_csv(\"aug_train.csv\")\n",
    "test_data=pd.read_csv(\"aug_test.csv\")"
   ]
  },
  {
   "cell_type": "markdown",
   "id": "8683be3d",
   "metadata": {},
   "source": [
    "# Part 3: Summary"
   ]
  },
  {
   "cell_type": "code",
   "execution_count": 3,
   "id": "23ad929e",
   "metadata": {},
   "outputs": [
    {
     "name": "stdout",
     "output_type": "stream",
     "text": [
      "<class 'pandas.core.frame.DataFrame'>\n",
      "RangeIndex: 19158 entries, 0 to 19157\n",
      "Data columns (total 14 columns):\n",
      " #   Column                  Non-Null Count  Dtype  \n",
      "---  ------                  --------------  -----  \n",
      " 0   enrollee_id             19158 non-null  int64  \n",
      " 1   city                    19158 non-null  object \n",
      " 2   city_development_index  19158 non-null  float64\n",
      " 3   gender                  14650 non-null  object \n",
      " 4   relevent_experience     19158 non-null  object \n",
      " 5   enrolled_university     18772 non-null  object \n",
      " 6   education_level         18698 non-null  object \n",
      " 7   major_discipline        16345 non-null  object \n",
      " 8   experience              19093 non-null  object \n",
      " 9   company_size            13220 non-null  object \n",
      " 10  company_type            13018 non-null  object \n",
      " 11  last_new_job            18735 non-null  object \n",
      " 12  training_hours          19158 non-null  int64  \n",
      " 13  target                  19158 non-null  float64\n",
      "dtypes: float64(2), int64(2), object(10)\n",
      "memory usage: 2.0+ MB\n"
     ]
    }
   ],
   "source": [
    "train_data.info() # this is will print a brief summary "
   ]
  },
  {
   "cell_type": "markdown",
   "id": "f7b4adae",
   "metadata": {},
   "source": [
    "# checking for missing values"
   ]
  },
  {
   "cell_type": "code",
   "execution_count": 4,
   "id": "48cde25c",
   "metadata": {},
   "outputs": [],
   "source": [
    "# enrollee_id is not required for us which we can remove\n",
    "data_1=train_data.drop(columns=[\"enrollee_id\"])"
   ]
  },
  {
   "cell_type": "code",
   "execution_count": 5,
   "id": "a41240f8",
   "metadata": {},
   "outputs": [
    {
     "data": {
      "text/plain": [
       "city                       0.000000\n",
       "city_development_index     0.000000\n",
       "gender                    23.530640\n",
       "relevent_experience        0.000000\n",
       "enrolled_university        2.014824\n",
       "education_level            2.401086\n",
       "major_discipline          14.683161\n",
       "experience                 0.339284\n",
       "company_size              30.994885\n",
       "company_type              32.049274\n",
       "last_new_job               2.207955\n",
       "training_hours             0.000000\n",
       "target                     0.000000\n",
       "dtype: float64"
      ]
     },
     "execution_count": 5,
     "metadata": {},
     "output_type": "execute_result"
    }
   ],
   "source": [
    "# now finding the missing counts\n",
    "data_1.isnull().sum()/19158*100"
   ]
  },
  {
   "cell_type": "code",
   "execution_count": 6,
   "id": "c7ecf43b",
   "metadata": {},
   "outputs": [
    {
     "data": {
      "image/png": "[encoded data removed]",
      "text/plain": [
       "<Figure size 648x432 with 1 Axes>"
      ]
     },
     "metadata": {
      "needs_background": "light"
     },
     "output_type": "display_data"
    }
   ],
   "source": [
    "md = (data_1.isnull().sum().to_numpy()/19158)*100\n",
    "df_mvalues = pd.DataFrame({'Features' : data_1.columns.to_list(), '% of Missing values' : md})  \n",
    "\n",
    "plt.figure(figsize=(9,6))\n",
    "sn.barplot(x=\"% of Missing values\", y=\"Features\", data=df_mvalues)\n",
    "plt.title('Percentage Missing values in Features')\n",
    "plt.ylabel('Different Features', fontsize=12)\n",
    "plt.show()"
   ]
  },
  {
   "cell_type": "markdown",
   "id": "28267c30",
   "metadata": {},
   "source": [
    "So the columns : gender has 23.5% of missing values, major_discipline has 14.7% of missing values, company size has 31% of missing data, company type has 32% missing data"
   ]
  },
  {
   "cell_type": "markdown",
   "id": "3211132b",
   "metadata": {},
   "source": [
    "# Observation\n",
    "\n",
    "1) 8 columns have missing values. Out of which 4 columns have missing value % quite high. \n",
    "For the rest of the columns, we can impute the missing values with mean/median/mode accordingly, but for these 4 columns doing so would introduce bias in the data which may hamper the model building.\n",
    "\n",
    "2) Also we can not make the missing values as a separate category, especially for gender, because that would \n",
    "again introduce bias and is sensitive also.\n",
    "\n",
    "3) We may drop the rows with missing values , but the disadvantage is that, it would then reduce the \n",
    "training data size drastically.\n",
    "\n",
    "4) So, one option can be to drop the columns full. but for that we need to check whether the columns are significant or not\n",
    "through visualization and some statistical tests.\n",
    "\n"
   ]
  },
  {
   "cell_type": "markdown",
   "id": "ffc44cb6",
   "metadata": {},
   "source": [
    "# Feature Visualization"
   ]
  },
  {
   "cell_type": "markdown",
   "id": "2dbbe7cc",
   "metadata": {},
   "source": [
    "#### For city"
   ]
  },
  {
   "cell_type": "code",
   "execution_count": 7,
   "id": "d1d9c0de",
   "metadata": {},
   "outputs": [
    {
     "data": {
      "image/png": "[encoded data removed]",
      "text/plain": [
       "<Figure size 864x360 with 1 Axes>"
      ]
     },
     "metadata": {
      "needs_background": "light"
     },
     "output_type": "display_data"
    }
   ],
   "source": [
    "#city \n",
    "city_count  = data_1['city'].value_counts()\n",
    "\n",
    "city_count = city_count[:15,]\n",
    "plt.figure(figsize=(12,5))\n",
    "sn.barplot(city_count.index, city_count.values, alpha=0.8)\n",
    "plt.title('Employee distribution in top 15 cities')\n",
    "plt.ylabel('Number of Employee', fontsize=12)\n",
    "plt.xlabel('city', fontsize=12)\n",
    "plt.show()"
   ]
  },
  {
   "cell_type": "markdown",
   "id": "89f83eb4",
   "metadata": {},
   "source": [
    "#### City development index"
   ]
  },
  {
   "cell_type": "code",
   "execution_count": 8,
   "id": "5496e765",
   "metadata": {
    "scrolled": true
   },
   "outputs": [
    {
     "data": {
      "image/png": "[encoded data removed]",
      "text/plain": [
       "<Figure size 360x360 with 1 Axes>"
      ]
     },
     "metadata": {
      "needs_background": "light"
     },
     "output_type": "display_data"
    }
   ],
   "source": [
    "#city development index\n",
    "plt.figure(figsize=(5,5))\n",
    "plt.hist(data_1[\"city_development_index\"], color=\"brown\")\n",
    "plt.title('Employee distribution by city development index')\n",
    "plt.ylabel('Number of Employee', fontsize=12)\n",
    "plt.xlabel('city_development_index_count', fontsize=12)\n",
    "plt.show()"
   ]
  },
  {
   "cell_type": "markdown",
   "id": "3aaa3791",
   "metadata": {},
   "source": [
    "#### Gender"
   ]
  },
  {
   "cell_type": "code",
   "execution_count": 9,
   "id": "f3c9014c",
   "metadata": {
    "scrolled": true
   },
   "outputs": [
    {
     "data": {
      "image/png": "[encoded data removed]",
      "text/plain": [
       "<Figure size 432x288 with 1 Axes>"
      ]
     },
     "metadata": {},
     "output_type": "display_data"
    }
   ],
   "source": [
    "plt.pie(data_1.groupby([\"gender\"]).size(),labels=['Female','Male','Other'],autopct='%.0f%%',radius=1)\n",
    "plt.title(\"Pie chart showing gender distribution\")\n",
    "plt.show()"
   ]
  },
  {
   "cell_type": "markdown",
   "id": "9b11ccd5",
   "metadata": {},
   "source": [
    "#### relevant experience"
   ]
  },
  {
   "cell_type": "code",
   "execution_count": 10,
   "id": "4f9a0d53",
   "metadata": {},
   "outputs": [
    {
     "data": {
      "image/png": "[encoded data removed]",
      "text/plain": [
       "<Figure size 432x288 with 1 Axes>"
      ]
     },
     "metadata": {},
     "output_type": "display_data"
    }
   ],
   "source": [
    "plt.pie(data_1.groupby([\"relevent_experience\"]).size(),colors=sn.color_palette('pastel')[0:2],labels=['Has relevent experience','No relevent experience'],autopct='%.0f%%',radius=1)\n",
    "plt.title(\"Pie chart showing distribution of job experience\")\n",
    "plt.show()"
   ]
  },
  {
   "cell_type": "markdown",
   "id": "9a8f396f",
   "metadata": {},
   "source": [
    "#### enrolled_university"
   ]
  },
  {
   "cell_type": "code",
   "execution_count": 11,
   "id": "210c4d86",
   "metadata": {},
   "outputs": [
    {
     "data": {
      "image/png": "[encoded data removed]",
      "text/plain": [
       "<Figure size 432x288 with 1 Axes>"
      ]
     },
     "metadata": {},
     "output_type": "display_data"
    }
   ],
   "source": [
    "plt.pie(data_1.groupby([\"enrolled_university\"]).size(),colors=sn.color_palette('muted')[0:3],labels=['Full time course','Part time course','No enrollment'],autopct='%.0f%%',radius=1)\n",
    "plt.title(\"Pie chart for distribution of enrolled_university\")\n",
    "plt.show()"
   ]
  },
  {
   "cell_type": "markdown",
   "id": "1a9a0ec3",
   "metadata": {},
   "source": [
    "#### education level"
   ]
  },
  {
   "cell_type": "code",
   "execution_count": 12,
   "id": "a82da674",
   "metadata": {},
   "outputs": [
    {
     "data": {
      "image/png": "[encoded data removed]",
      "text/plain": [
       "<Figure size 432x288 with 1 Axes>"
      ]
     },
     "metadata": {},
     "output_type": "display_data"
    }
   ],
   "source": [
    "plt.pie(data_1.groupby([\"education_level\"]).size(),colors=sn.color_palette('muted')[0:6],labels=['Graduate','High School','Masters','PhD','Primary School'],autopct='%.0f%%',radius=1)\n",
    "plt.title(\"Pie chart for distribution of education_level\")\n",
    "plt.show()"
   ]
  },
  {
   "cell_type": "markdown",
   "id": "6542ef99",
   "metadata": {},
   "source": [
    "#### major_discipline"
   ]
  },
  {
   "cell_type": "code",
   "execution_count": 13,
   "id": "c277d370",
   "metadata": {},
   "outputs": [
    {
     "data": {
      "image/png": "[encoded data removed]",
      "text/plain": [
       "<Figure size 360x360 with 1 Axes>"
      ]
     },
     "metadata": {
      "needs_background": "light"
     },
     "output_type": "display_data"
    }
   ],
   "source": [
    "plt.figure(figsize=(5,5))\n",
    "major_discipline_count  = data_1['major_discipline'].value_counts()\n",
    "sn.barplot(major_discipline_count.index, major_discipline_count.values/major_discipline_count.sum()*100, alpha=0.8)\n",
    "plt.title('Distribution of Major discipline')\n",
    "plt.ylabel('Percentage of Employee', fontsize=12)\n",
    "plt.xlabel('major_discipline', fontsize=12)\n",
    "plt.xticks(\n",
    "    rotation=45, \n",
    "    horizontalalignment='right',\n",
    "    fontweight='light'  \n",
    ")\n",
    "plt.show()"
   ]
  },
  {
   "cell_type": "markdown",
   "id": "0dbec878",
   "metadata": {},
   "source": [
    "#### Experience"
   ]
  },
  {
   "cell_type": "code",
   "execution_count": 14,
   "id": "ce61f6d2",
   "metadata": {},
   "outputs": [
    {
     "data": {
      "image/png": "[encoded data removed]",
      "text/plain": [
       "<Figure size 504x360 with 1 Axes>"
      ]
     },
     "metadata": {
      "needs_background": "light"
     },
     "output_type": "display_data"
    }
   ],
   "source": [
    "# experience\n",
    "experience_count  = data_1['experience'].value_counts()\n",
    "order=[\"<1\",\"1\",\"2\",\"3\",\"4\",\"5\",\"6\",\"7\",\"8\",\"9\",\"10\",\"11\",\"12\",\"13\",\"14\",\"15\",\"16\",\"17\",\"18\",\"19\",\"20\",\">20\"]\n",
    "plt.figure(figsize=(7,5))\n",
    "sn.barplot(experience_count.index, experience_count.values/experience_count.sum()*100,order=order, alpha=0.8)\n",
    "plt.title('Employee experience distribution')\n",
    "plt.ylabel('Percentage of Employee', fontsize=12)\n",
    "plt.xlabel('experience (years)', fontsize=12)\n",
    "\n",
    "plt.show()"
   ]
  },
  {
   "cell_type": "markdown",
   "id": "e199ebe4",
   "metadata": {},
   "source": [
    "#### company_size"
   ]
  },
  {
   "cell_type": "code",
   "execution_count": 15,
   "id": "88ff60ef",
   "metadata": {},
   "outputs": [
    {
     "data": {
      "image/png": "[encoded data removed]",
      "text/plain": [
       "<Figure size 360x360 with 1 Axes>"
      ]
     },
     "metadata": {
      "needs_background": "light"
     },
     "output_type": "display_data"
    }
   ],
   "source": [
    "order=[\"<10\",\"10/49\",\"50-99\",\"100-500\",\"500-999\",\"1000-4999\",\"5000-9999\",\"10000+\"]\n",
    "company_size_count  = data_1['company_size'].value_counts()\n",
    "plt.figure(figsize=(5,5))\n",
    "sn.barplot(x = company_size_count.index, y= company_size_count.values/company_size_count.sum()*100,order=order, alpha=0.8)\n",
    "plt.title('Company size distribution')\n",
    "plt.ylabel('Percentage of Employee', fontsize=12)\n",
    "plt.xlabel('company_size', fontsize=12)\n",
    "plt.xticks(\n",
    "    rotation=45, \n",
    "    horizontalalignment='right',\n",
    "    fontweight='light'  \n",
    ")\n",
    "plt.show()"
   ]
  },
  {
   "cell_type": "markdown",
   "id": "d9f7b9dc",
   "metadata": {},
   "source": [
    "#### company_type"
   ]
  },
  {
   "cell_type": "code",
   "execution_count": 16,
   "id": "eea04bc5",
   "metadata": {},
   "outputs": [
    {
     "data": {
      "image/png": "[encoded data removed]",
      "text/plain": [
       "<Figure size 360x360 with 1 Axes>"
      ]
     },
     "metadata": {
      "needs_background": "light"
     },
     "output_type": "display_data"
    }
   ],
   "source": [
    "company_type_count  = data_1['company_type'].value_counts()\n",
    "\n",
    "plt.figure(figsize=(5,5))\n",
    "sn.barplot(x = company_type_count.index, y= company_type_count.values/company_type_count.sum()*100, alpha=0.8)\n",
    "plt.title('Employee distribution by company type')\n",
    "plt.ylabel('Percentage of Employee', fontsize=12)\n",
    "plt.xlabel('company_type', fontsize=12)\n",
    "plt.xticks(\n",
    "    rotation=45, \n",
    "    horizontalalignment='right',\n",
    "    fontweight='light'  \n",
    ")\n",
    "plt.show()\n"
   ]
  },
  {
   "cell_type": "markdown",
   "id": "82354e0d",
   "metadata": {},
   "source": [
    "#### last_new_job"
   ]
  },
  {
   "cell_type": "code",
   "execution_count": 17,
   "id": "c59a0709",
   "metadata": {},
   "outputs": [
    {
     "data": {
      "image/png": "[encoded data removed]",
      "text/plain": [
       "<Figure size 360x360 with 1 Axes>"
      ]
     },
     "metadata": {
      "needs_background": "light"
     },
     "output_type": "display_data"
    }
   ],
   "source": [
    "last_new_job_count  = data_1['last_new_job'].value_counts()\n",
    "order=[\"never\",\"1\",\"2\",\"3\",\"4\",\">4\"]\n",
    "plt.figure(figsize=(5,5))\n",
    "sn.barplot(x = last_new_job_count.index, y= last_new_job_count.values/last_new_job_count.sum()*100, alpha=0.8)\n",
    "plt.title('Employee distribution by last new job')\n",
    "plt.ylabel('Percentage of Employee', fontsize=12)\n",
    "plt.xlabel('last_new_job', fontsize=12)\n",
    "plt.show()"
   ]
  },
  {
   "cell_type": "markdown",
   "id": "59ba3ce4",
   "metadata": {},
   "source": [
    "#### training hours"
   ]
  },
  {
   "cell_type": "code",
   "execution_count": 18,
   "id": "82e5d3e3",
   "metadata": {},
   "outputs": [
    {
     "data": {
      "image/png": "[encoded data removed]",
      "text/plain": [
       "<Figure size 360x360 with 1 Axes>"
      ]
     },
     "metadata": {
      "needs_background": "light"
     },
     "output_type": "display_data"
    }
   ],
   "source": [
    "plt.figure(figsize=(5,5))\n",
    "# sns.barplot(x = training_hours_count.index, y= training_hours_count.values, alpha=0.8)\n",
    "plt.hist(data_1[\"training_hours\"], color=\"lightblue\")\n",
    "plt.title('Employee training hours distribution ')\n",
    "plt.ylabel('Number of Employee', fontsize=12)\n",
    "plt.xlabel('training_hours', fontsize=12)\n",
    "plt.show()"
   ]
  },
  {
   "cell_type": "markdown",
   "id": "56f42b47",
   "metadata": {},
   "source": [
    "# Statistical Analysis"
   ]
  },
  {
   "cell_type": "markdown",
   "id": "b48c3b1f",
   "metadata": {},
   "source": [
    "# Chi-sq test to test the association of these columns with target variable\n",
    "\n",
    "H0: Feature and target variable are independent vs H1: not H0"
   ]
  },
  {
   "cell_type": "markdown",
   "id": "95657ed1",
   "metadata": {},
   "source": [
    "#### For gender"
   ]
  },
  {
   "cell_type": "code",
   "execution_count": 19,
   "id": "5ffa474b",
   "metadata": {},
   "outputs": [
    {
     "data": {
      "image/png": "[encoded data removed]",
      "text/plain": [
       "<Figure size 432x288 with 1 Axes>"
      ]
     },
     "metadata": {},
     "output_type": "display_data"
    }
   ],
   "source": [
    "#plot\n",
    "sn.set_theme(style=\"darkgrid\")\n",
    "ax=sn.countplot(x=\"gender\",hue=\"target\",data=data_1).set_title(\"Horizontal Barplot for count dist of target wrt gender\")"
   ]
  },
  {
   "cell_type": "code",
   "execution_count": 20,
   "id": "3e8f1bc2",
   "metadata": {},
   "outputs": [
    {
     "name": "stdout",
     "output_type": "stream",
     "text": [
      "gender  target\n",
      "Female  0.0         912\n",
      "        1.0         326\n",
      "Male    0.0       10209\n",
      "        1.0        3012\n",
      "Other   0.0         141\n",
      "        1.0          50\n",
      "dtype: int64\n"
     ]
    }
   ],
   "source": [
    "print(data_1.groupby([\"gender\",\"target\"]).size())"
   ]
  },
  {
   "cell_type": "code",
   "execution_count": 21,
   "id": "ac530d29",
   "metadata": {},
   "outputs": [],
   "source": [
    "gender_target=[[10209,3012],[912,326],[141,50]]\n",
    "\n",
    "stat, p, dof, expected = chi2_contingency(gender_target)"
   ]
  },
  {
   "cell_type": "code",
   "execution_count": 22,
   "id": "3ed03b9a",
   "metadata": {},
   "outputs": [
    {
     "name": "stdout",
     "output_type": "stream",
     "text": [
      "gender and target variable are independent\n"
     ]
    }
   ],
   "source": [
    "if(p<0.01):\n",
    "    print(\"gender is associated with target variable\")\n",
    "else:\n",
    "    print(\"gender and target variable are independent\")"
   ]
  },
  {
   "cell_type": "code",
   "execution_count": 23,
   "id": "efd48279",
   "metadata": {},
   "outputs": [
    {
     "name": "stdout",
     "output_type": "stream",
     "text": [
      "gender is associated with target variable\n"
     ]
    }
   ],
   "source": [
    "if(p<0.05):\n",
    "    print(\"gender is associated with target variable\")\n",
    "else:\n",
    "    print(\"gender and target variable are independent\")"
   ]
  },
  {
   "cell_type": "code",
   "execution_count": 24,
   "id": "b918be33",
   "metadata": {},
   "outputs": [
    {
     "name": "stdout",
     "output_type": "stream",
     "text": [
      "There is no or very less association between gender and target variable\n"
     ]
    },
    {
     "data": {
      "text/plain": [
       "0.02484378736573684"
      ]
     },
     "execution_count": 24,
     "metadata": {},
     "output_type": "execute_result"
    }
   ],
   "source": [
    "# Cramer's V\n",
    "gender_cramer=(stat/np.sum(np.array(gender_target)))**0.5\n",
    "if(gender_cramer<0.1):\n",
    "    print(\"There is no or very less association between gender and target variable\")\n",
    "else:\n",
    "    print(\"There is association\")\n",
    "gender_cramer"
   ]
  },
  {
   "cell_type": "markdown",
   "id": "6bb91f4d",
   "metadata": {},
   "source": [
    "#### For Company_size"
   ]
  },
  {
   "cell_type": "code",
   "execution_count": 25,
   "id": "55c8c2ec",
   "metadata": {},
   "outputs": [
    {
     "data": {
      "image/png": "[encoded data removed]",
      "text/plain": [
       "<Figure size 432x288 with 1 Axes>"
      ]
     },
     "metadata": {},
     "output_type": "display_data"
    }
   ],
   "source": [
    "##\n",
    "order=[\"<10\",\"10/49\",\"50-99\",\"100-500\",\"500-999\",\"1000-4999\",\"5000-9999\",\"10000+\"]\n",
    "sn.set_theme(style=\"whitegrid\")\n",
    "ax=sn.countplot(x=\"company_size\",hue=\"target\",data=data_1,order=order).set_title(\"Horizontal Barplot for count dist of target wrt comp_size\")\n",
    "plt.xticks(\n",
    "    rotation=45, \n",
    "    horizontalalignment='right',\n",
    "    fontweight='light'  \n",
    ")\n",
    "plt.show()"
   ]
  },
  {
   "cell_type": "code",
   "execution_count": 26,
   "id": "a648d833",
   "metadata": {},
   "outputs": [
    {
     "name": "stdout",
     "output_type": "stream",
     "text": [
      "company_size  target\n",
      "10/49         0.0       1127\n",
      "              1.0        344\n",
      "100-500       0.0       2156\n",
      "              1.0        415\n",
      "1000-4999     0.0       1128\n",
      "              1.0        200\n",
      "10000+        0.0       1634\n",
      "              1.0        385\n",
      "50-99         0.0       2538\n",
      "              1.0        545\n",
      "500-999       0.0        725\n",
      "              1.0        152\n",
      "5000-9999     0.0        461\n",
      "              1.0        102\n",
      "<10           0.0       1084\n",
      "              1.0        224\n",
      "dtype: int64\n"
     ]
    }
   ],
   "source": [
    "print(data_1.groupby([\"company_size\",\"target\"]).size())"
   ]
  },
  {
   "cell_type": "code",
   "execution_count": 27,
   "id": "06eee448",
   "metadata": {},
   "outputs": [],
   "source": [
    "company_size_target=[[1127,344],[2156,415],[1128,200],[1634,385],[2538,545],[725,152],[461,102],[1084,224]]\n",
    "\n",
    "stat, p, dof, expected = chi2_contingency(company_size_target)"
   ]
  },
  {
   "cell_type": "code",
   "execution_count": 28,
   "id": "c5cf59f9",
   "metadata": {},
   "outputs": [
    {
     "name": "stdout",
     "output_type": "stream",
     "text": [
      "company_size is associated with target variable\n"
     ]
    }
   ],
   "source": [
    "if(p<0.01):\n",
    "    print(\"company_size is associated with target variable\")\n",
    "else:\n",
    "    print(\"company_size and target variable are independent\")"
   ]
  },
  {
   "cell_type": "code",
   "execution_count": 29,
   "id": "e435487c",
   "metadata": {},
   "outputs": [
    {
     "name": "stdout",
     "output_type": "stream",
     "text": [
      "There is no or very less association between company_size and target variable\n"
     ]
    },
    {
     "data": {
      "text/plain": [
       "0.058686940466582654"
      ]
     },
     "execution_count": 29,
     "metadata": {},
     "output_type": "execute_result"
    }
   ],
   "source": [
    "# Cramer's V\n",
    "comp_size_cramer=(stat/np.sum(np.array(company_size_target)))**0.5\n",
    "if(comp_size_cramer<0.1):\n",
    "    print(\"There is no or very less association between company_size and target variable\")\n",
    "else:\n",
    "    print(\"There is association\")\n",
    "comp_size_cramer"
   ]
  },
  {
   "cell_type": "markdown",
   "id": "d104f04f",
   "metadata": {},
   "source": [
    "#### For company_type"
   ]
  },
  {
   "cell_type": "code",
   "execution_count": 30,
   "id": "35efc3bf",
   "metadata": {},
   "outputs": [
    {
     "data": {
      "image/png": "[encoded data removed]",
      "text/plain": [
       "<Figure size 432x288 with 1 Axes>"
      ]
     },
     "metadata": {},
     "output_type": "display_data"
    }
   ],
   "source": [
    "# some plots\n",
    "sn.set_theme(style=\"whitegrid\")\n",
    "ax=sn.countplot(x=\"company_type\",hue=\"target\",data=data_1).set_title(\"Horizontal Barplot for count dist of target wrt comp_type\")\n",
    "plt.xticks(\n",
    "    rotation=45, \n",
    "    horizontalalignment='right',\n",
    "    fontweight='light'  \n",
    ")\n",
    "plt.show()"
   ]
  },
  {
   "cell_type": "code",
   "execution_count": 31,
   "id": "3f5239ae",
   "metadata": {},
   "outputs": [
    {
     "name": "stdout",
     "output_type": "stream",
     "text": [
      "company_type         target\n",
      "Early Stage Startup  0.0        461\n",
      "                     1.0        142\n",
      "Funded Startup       0.0        861\n",
      "                     1.0        140\n",
      "NGO                  0.0        424\n",
      "                     1.0         97\n",
      "Other                0.0         92\n",
      "                     1.0         29\n",
      "Public Sector        0.0        745\n",
      "                     1.0        210\n",
      "Pvt Ltd              0.0       8042\n",
      "                     1.0       1775\n",
      "dtype: int64\n"
     ]
    }
   ],
   "source": [
    "print(data_1.groupby([\"company_type\",\"target\"]).size())"
   ]
  },
  {
   "cell_type": "code",
   "execution_count": 32,
   "id": "c5336b42",
   "metadata": {},
   "outputs": [],
   "source": [
    "company_type_target=[[461,142],[861,140],[424,97],[92,29],[745,210],[8042,1775]]\n",
    "\n",
    "stat, p, dof, expected = chi2_contingency(company_type_target)"
   ]
  },
  {
   "cell_type": "code",
   "execution_count": 33,
   "id": "ca2a372d",
   "metadata": {},
   "outputs": [
    {
     "name": "stdout",
     "output_type": "stream",
     "text": [
      "company_type is associated with target variable\n"
     ]
    }
   ],
   "source": [
    "if(p<0.01):\n",
    "    print(\"company_type is associated with target variable\")\n",
    "else:\n",
    "    print(\"company_type and target variable are independent\")"
   ]
  },
  {
   "cell_type": "code",
   "execution_count": 34,
   "id": "a69eb916",
   "metadata": {},
   "outputs": [
    {
     "name": "stdout",
     "output_type": "stream",
     "text": [
      "There is no or very less association between company_type and target variable\n"
     ]
    },
    {
     "data": {
      "text/plain": [
       "0.05187783866420968"
      ]
     },
     "execution_count": 34,
     "metadata": {},
     "output_type": "execute_result"
    }
   ],
   "source": [
    "# Cramer's V\n",
    "comp_type_cramer=(stat/np.sum(np.array(company_type_target)))**0.5\n",
    "if(comp_type_cramer<0.1):\n",
    "    print(\"There is no or very less association between company_type and target variable\")\n",
    "else:\n",
    "    print(\"There is association\")\n",
    "comp_type_cramer"
   ]
  },
  {
   "cell_type": "markdown",
   "id": "4e5dcba6",
   "metadata": {},
   "source": [
    "#### For major_discipline"
   ]
  },
  {
   "cell_type": "code",
   "execution_count": 35,
   "id": "f26ba01e",
   "metadata": {},
   "outputs": [
    {
     "data": {
      "image/png": "[encoded data removed]",
      "text/plain": [
       "<Figure size 432x288 with 1 Axes>"
      ]
     },
     "metadata": {},
     "output_type": "display_data"
    }
   ],
   "source": [
    "# some plots\n",
    "sn.set_theme(style=\"whitegrid\")\n",
    "ax=sn.countplot(x=\"major_discipline\",hue=\"target\",data=data_1).set_title(\"Horizontal Barplot for count dist of target wrt major_discipline\")\n",
    "plt.xticks(\n",
    "    rotation=45, \n",
    "    horizontalalignment='right',\n",
    "    fontweight='light'  \n",
    ")\n",
    "plt.show()"
   ]
  },
  {
   "cell_type": "code",
   "execution_count": 36,
   "id": "dfcac570",
   "metadata": {},
   "outputs": [
    {
     "name": "stdout",
     "output_type": "stream",
     "text": [
      "major_discipline  target\n",
      "Arts              0.0         200\n",
      "                  1.0          53\n",
      "Business Degree   0.0         241\n",
      "                  1.0          86\n",
      "Humanities        0.0         528\n",
      "                  1.0         141\n",
      "No Major          0.0         168\n",
      "                  1.0          55\n",
      "Other             0.0         279\n",
      "                  1.0         102\n",
      "STEM              0.0       10701\n",
      "                  1.0        3791\n",
      "dtype: int64\n"
     ]
    }
   ],
   "source": [
    "print(data_1.groupby([\"major_discipline\",\"target\"]).size())"
   ]
  },
  {
   "cell_type": "code",
   "execution_count": 37,
   "id": "9bd93ab2",
   "metadata": {},
   "outputs": [],
   "source": [
    "major_target=[[200,53],[241,86],[528,141],[168,55],[279,102],[10701,3791]]\n",
    "\n",
    "stat, p, dof, expected = chi2_contingency(major_target)"
   ]
  },
  {
   "cell_type": "code",
   "execution_count": 38,
   "id": "759f0a79",
   "metadata": {},
   "outputs": [
    {
     "name": "stdout",
     "output_type": "stream",
     "text": [
      "major_discipline and target variable are independent\n"
     ]
    }
   ],
   "source": [
    "if(p<0.01):\n",
    "    print(\"major_discipline is associated with target variable\")\n",
    "else:\n",
    "    print(\"major_discipline and target variable are independent\")"
   ]
  },
  {
   "cell_type": "code",
   "execution_count": 39,
   "id": "68e39d50",
   "metadata": {},
   "outputs": [
    {
     "name": "stdout",
     "output_type": "stream",
     "text": [
      "major_discipline is associated with target variable\n"
     ]
    }
   ],
   "source": [
    "if(p<0.05):\n",
    "    print(\"major_discipline is associated with target variable\")\n",
    "else:\n",
    "    print(\"major_discipline and target variable are independent\")"
   ]
  },
  {
   "cell_type": "code",
   "execution_count": 40,
   "id": "8b5d93e8",
   "metadata": {},
   "outputs": [
    {
     "name": "stdout",
     "output_type": "stream",
     "text": [
      "There is no or very less association between major_discipline and target variable\n"
     ]
    },
    {
     "data": {
      "text/plain": [
       "0.02732839733526265"
      ]
     },
     "execution_count": 40,
     "metadata": {},
     "output_type": "execute_result"
    }
   ],
   "source": [
    "# Cramer's V\n",
    "major_cramer=(stat/np.sum(np.array(major_target)))**0.5\n",
    "if(major_cramer<0.1):\n",
    "    print(\"There is no or very less association between major_discipline and target variable\")\n",
    "else:\n",
    "    print(\"There is association\")\n",
    "major_cramer"
   ]
  },
  {
   "cell_type": "markdown",
   "id": "e97a8eb5",
   "metadata": {},
   "source": [
    "# Conclusion\n",
    "\n",
    "### Should not drop the whole columns.\n",
    "\n",
    "### Also dropping rows will reduce the train data size\n",
    "\n",
    "## Therefore,\n",
    "1. for these 4 columns, make the missing values as separate category as \"unknown\"\n",
    "2. for other columns impute by mean/median/mode whichever applicable"
   ]
  },
  {
   "cell_type": "markdown",
   "id": "a79e4bc2",
   "metadata": {},
   "source": [
    "# Missing Value Imputation\n",
    "\n",
    "1. gender to be imputed by unknown (this will give another aspect that if someone does not want to disclose their gender, then also the model will be valid)\n",
    "2. enrolled_university to be imputed by mode\n",
    "3. education level to be imputed by median\n",
    "4. major_discipline to be imputed by unknown\n",
    "5. experience to be imputed by median\n",
    "6. company_size to be imputed by unknown\n",
    "7. company_type to be imputed by unknown\n",
    "8. last new job to be imputed by median"
   ]
  },
  {
   "cell_type": "code",
   "execution_count": 41,
   "id": "df821c0f",
   "metadata": {},
   "outputs": [],
   "source": [
    "# imputation of the columns with unknown, this is easy\n",
    "data_1['gender'].fillna('Unknown',inplace=True)\n",
    "data_1['major_discipline'].fillna('Unknown',inplace=True)\n",
    "data_1['company_size'].fillna('Unknown',inplace=True)\n",
    "data_1['company_type'].fillna('Unknown',inplace=True)"
   ]
  },
  {
   "cell_type": "code",
   "execution_count": 42,
   "id": "e1eecaca",
   "metadata": {},
   "outputs": [],
   "source": [
    "# imputation with mode: also easy\n",
    "data_1['enrolled_university'].fillna(data_1['enrolled_university'].value_counts().index[0],inplace=True)"
   ]
  },
  {
   "cell_type": "code",
   "execution_count": 43,
   "id": "21d78498",
   "metadata": {},
   "outputs": [],
   "source": [
    "# these are ordinal variable, hence should take the median than mode\n",
    "xx=data_1['education_level'].dropna()\n",
    "xx.unique()\n",
    "education_level_order=CategoricalDtype(['Primary School', 'High School','Graduate','Masters','Phd'],ordered=True)\n",
    "xx=xx.astype(education_level_order)\n",
    "xx1=np.array(xx.sort_values())\n",
    "data_1['education_level'].fillna(xx1[int(len(xx1)/2)],inplace=True)"
   ]
  },
  {
   "cell_type": "code",
   "execution_count": 44,
   "id": "408be99b",
   "metadata": {},
   "outputs": [],
   "source": [
    "xx=data_1['experience'].dropna()\n",
    "xx.unique()\n",
    "experience_order=CategoricalDtype(['<1','1','2','3','4','5','6','7','8','9','10','11','12','13','14','15','16','17','18','19','20','21'],ordered=True)\n",
    "xx=xx.astype(experience_order)\n",
    "xx1=np.array(xx.sort_values())\n",
    "data_1['experience'].fillna(xx1[int(len(xx1)/2)],inplace=True)"
   ]
  },
  {
   "cell_type": "code",
   "execution_count": 45,
   "id": "a523c100",
   "metadata": {},
   "outputs": [],
   "source": [
    "xx=data_1['last_new_job'].dropna()\n",
    "xx.unique()\n",
    "new_job_order=CategoricalDtype(['never','1','2','3','4','>4'],ordered=True)\n",
    "xx=xx.astype(new_job_order)\n",
    "xx1=np.array(xx.sort_values())\n",
    "data_1['last_new_job'].fillna(xx1[int(len(xx1)/2)],inplace=True)"
   ]
  },
  {
   "cell_type": "markdown",
   "id": "952278ac",
   "metadata": {},
   "source": [
    "#### Final Check"
   ]
  },
  {
   "cell_type": "code",
   "execution_count": 46,
   "id": "f0a29a9b",
   "metadata": {},
   "outputs": [
    {
     "data": {
      "text/plain": [
       "city                      0\n",
       "city_development_index    0\n",
       "gender                    0\n",
       "relevent_experience       0\n",
       "enrolled_university       0\n",
       "education_level           0\n",
       "major_discipline          0\n",
       "experience                0\n",
       "company_size              0\n",
       "company_type              0\n",
       "last_new_job              0\n",
       "training_hours            0\n",
       "target                    0\n",
       "dtype: int64"
      ]
     },
     "execution_count": 46,
     "metadata": {},
     "output_type": "execute_result"
    }
   ],
   "source": [
    "data_1.isnull().sum()"
   ]
  },
  {
   "cell_type": "markdown",
   "id": "9ccfaa6f",
   "metadata": {},
   "source": [
    "# Feature selection\n",
    "\n",
    "### We are not performing any feature selection as most are categorical data, \n",
    "### for numerical variables correlation is calculated and is insignificant"
   ]
  },
  {
   "cell_type": "code",
   "execution_count": 47,
   "id": "729b6431",
   "metadata": {},
   "outputs": [
    {
     "data": {
      "text/html": [
       "<div>\n",
       "<style scoped>\n",
       "    .dataframe tbody tr th:only-of-type {\n",
       "        vertical-align: middle;\n",
       "    }\n",
       "\n",
       "    .dataframe tbody tr th {\n",
       "        vertical-align: top;\n",
       "    }\n",
       "\n",
       "    .dataframe thead th {\n",
       "        text-align: right;\n",
       "    }\n",
       "</style>\n",
       "<table border=\"1\" class=\"dataframe\">\n",
       "  <thead>\n",
       "    <tr style=\"text-align: right;\">\n",
       "      <th></th>\n",
       "      <th>city_development_index</th>\n",
       "      <th>training_hours</th>\n",
       "    </tr>\n",
       "  </thead>\n",
       "  <tbody>\n",
       "    <tr>\n",
       "      <th>city_development_index</th>\n",
       "      <td>1.00000</td>\n",
       "      <td>0.00192</td>\n",
       "    </tr>\n",
       "    <tr>\n",
       "      <th>training_hours</th>\n",
       "      <td>0.00192</td>\n",
       "      <td>1.00000</td>\n",
       "    </tr>\n",
       "  </tbody>\n",
       "</table>\n",
       "</div>"
      ],
      "text/plain": [
       "                        city_development_index  training_hours\n",
       "city_development_index                 1.00000         0.00192\n",
       "training_hours                         0.00192         1.00000"
      ]
     },
     "execution_count": 47,
     "metadata": {},
     "output_type": "execute_result"
    }
   ],
   "source": [
    "data_1[['city_development_index','training_hours']].corr()"
   ]
  },
  {
   "cell_type": "markdown",
   "id": "584e78a0",
   "metadata": {},
   "source": [
    "# Notes : If time permits, we can check for outlier detection, but multivariate outlier detection that too in mixed data is itself challenging. So skipping for the time being"
   ]
  },
  {
   "cell_type": "markdown",
   "id": "6a7ec7a4",
   "metadata": {},
   "source": [
    "## Modelling:\n",
    "#### data_1 is now the final training dataset to do modelling\n",
    "\n",
    "###### split up modelling among Joy, Aladin and Shaurya. Joy is taking logistic,cauchy, laplace. Aladin and shaurya will choose accordingly. Plan is to do Logistic, Decision Tree, Random forest, ANN. What do you say about naive bayes,SVM and Xgboost?\n",
    "\n",
    "Joy is keeping train validation ratio as 80-20"
   ]
  },
  {
   "cell_type": "code",
   "execution_count": 48,
   "id": "9e5aade8",
   "metadata": {},
   "outputs": [
    {
     "data": {
      "text/plain": [
       "Index(['city', 'city_development_index', 'gender', 'relevent_experience',\n",
       "       'enrolled_university', 'education_level', 'major_discipline',\n",
       "       'experience', 'company_size', 'company_type', 'last_new_job',\n",
       "       'training_hours', 'target'],\n",
       "      dtype='object')"
      ]
     },
     "execution_count": 48,
     "metadata": {},
     "output_type": "execute_result"
    }
   ],
   "source": [
    "data_1.columns\n",
    "# city -- nominal : onehotencoder\n",
    "# city_development_index -- numeric : keep as it is\n",
    "# gender -- nominal : onehotencoder\n",
    "# relevent_experience -- ordinal : Ordinalencoder\n",
    "# enrolled_univeristy -- ordinal : Ordinalencoder\n",
    "# education_level -- ordinal : Ordinalencoder\n",
    "# major_discipline -- nominal : onehotencoder\n",
    "# experience -- ordinal : Ordinalencoder\n",
    "# company_size -- ordinal : Ordinalencoder (keep unknown as least preference)\n",
    "# company_type -- nominal : onehotencoder\n",
    "# last_new_job -- ordinal :Ordinalencoder (check the order used during missing value imputation)\n",
    "# training_hours -- numeric : keep as it is"
   ]
  },
  {
   "cell_type": "code",
   "execution_count": 49,
   "id": "d939bc06",
   "metadata": {},
   "outputs": [],
   "source": [
    "nominal_variables=['gender','city','major_discipline','company_type','enrolled_university']\n",
    "ordinal_variables=['relevent_experience','education_level','experience','company_size','last_new_job']"
   ]
  },
  {
   "cell_type": "code",
   "execution_count": 50,
   "id": "7275a4f9",
   "metadata": {},
   "outputs": [],
   "source": [
    "category_ordinal=[['No relevent experience','Has relevent experience'],\n",
    "          ['Primary School','High School','Graduate','Masters','Phd'],\n",
    "          ['<1','1','2','3','4','5','6','7','8','9','10','11','12','13','14','15','16','17','18','19','20','>20'],\n",
    "          ['Unknown','<10','10/49','50-99','100-500','500-999','1000-4999','5000-9999','10000+'],\n",
    "          ['never','1','2','3','4','>4']]"
   ]
  },
  {
   "cell_type": "code",
   "execution_count": 51,
   "id": "6bb6786a",
   "metadata": {},
   "outputs": [],
   "source": [
    "ord_enc=OrdinalEncoder(categories=category_ordinal)\n",
    "data_2=ord_enc.fit_transform(data_1[ordinal_variables])"
   ]
  },
  {
   "cell_type": "code",
   "execution_count": 52,
   "id": "865bff79",
   "metadata": {},
   "outputs": [],
   "source": [
    "data_3=pd.DataFrame(data_2,columns=ordinal_variables)"
   ]
  },
  {
   "cell_type": "code",
   "execution_count": 53,
   "id": "7390aba7",
   "metadata": {},
   "outputs": [],
   "source": [
    "ohc_enc=OneHotEncoder(sparse=False,drop='first')\n",
    "for col in nominal_variables:\n",
    "    output= pd.DataFrame(ohc_enc.fit_transform(data_1[[col]]))\n",
    "    output.columns= ohc_enc.get_feature_names([col])\n",
    "    data_3=pd.concat([data_3,output],axis=1)"
   ]
  },
  {
   "cell_type": "code",
   "execution_count": 54,
   "id": "60638e32",
   "metadata": {},
   "outputs": [],
   "source": [
    "data_3=pd.concat([data_3,data_1['city_development_index'],data_1['training_hours'],data_1['target']],axis=1)"
   ]
  },
  {
   "cell_type": "code",
   "execution_count": 55,
   "id": "6d3e3ad5",
   "metadata": {},
   "outputs": [
    {
     "data": {
      "text/html": [
       "<div>\n",
       "<style scoped>\n",
       "    .dataframe tbody tr th:only-of-type {\n",
       "        vertical-align: middle;\n",
       "    }\n",
       "\n",
       "    .dataframe tbody tr th {\n",
       "        vertical-align: top;\n",
       "    }\n",
       "\n",
       "    .dataframe thead th {\n",
       "        text-align: right;\n",
       "    }\n",
       "</style>\n",
       "<table border=\"1\" class=\"dataframe\">\n",
       "  <thead>\n",
       "    <tr style=\"text-align: right;\">\n",
       "      <th></th>\n",
       "      <th>relevent_experience</th>\n",
       "      <th>education_level</th>\n",
       "      <th>experience</th>\n",
       "      <th>company_size</th>\n",
       "      <th>last_new_job</th>\n",
       "      <th>gender_Male</th>\n",
       "      <th>gender_Other</th>\n",
       "      <th>gender_Unknown</th>\n",
       "      <th>city_city_10</th>\n",
       "      <th>city_city_100</th>\n",
       "      <th>...</th>\n",
       "      <th>company_type_NGO</th>\n",
       "      <th>company_type_Other</th>\n",
       "      <th>company_type_Public Sector</th>\n",
       "      <th>company_type_Pvt Ltd</th>\n",
       "      <th>company_type_Unknown</th>\n",
       "      <th>enrolled_university_Part time course</th>\n",
       "      <th>enrolled_university_no_enrollment</th>\n",
       "      <th>city_development_index</th>\n",
       "      <th>training_hours</th>\n",
       "      <th>target</th>\n",
       "    </tr>\n",
       "  </thead>\n",
       "  <tbody>\n",
       "    <tr>\n",
       "      <th>0</th>\n",
       "      <td>1.0</td>\n",
       "      <td>2.0</td>\n",
       "      <td>21.0</td>\n",
       "      <td>0.0</td>\n",
       "      <td>1.0</td>\n",
       "      <td>1.0</td>\n",
       "      <td>0.0</td>\n",
       "      <td>0.0</td>\n",
       "      <td>0.0</td>\n",
       "      <td>0.0</td>\n",
       "      <td>...</td>\n",
       "      <td>0.0</td>\n",
       "      <td>0.0</td>\n",
       "      <td>0.0</td>\n",
       "      <td>0.0</td>\n",
       "      <td>1.0</td>\n",
       "      <td>0.0</td>\n",
       "      <td>1.0</td>\n",
       "      <td>0.920</td>\n",
       "      <td>36</td>\n",
       "      <td>1.0</td>\n",
       "    </tr>\n",
       "    <tr>\n",
       "      <th>1</th>\n",
       "      <td>0.0</td>\n",
       "      <td>2.0</td>\n",
       "      <td>15.0</td>\n",
       "      <td>3.0</td>\n",
       "      <td>5.0</td>\n",
       "      <td>1.0</td>\n",
       "      <td>0.0</td>\n",
       "      <td>0.0</td>\n",
       "      <td>0.0</td>\n",
       "      <td>0.0</td>\n",
       "      <td>...</td>\n",
       "      <td>0.0</td>\n",
       "      <td>0.0</td>\n",
       "      <td>0.0</td>\n",
       "      <td>1.0</td>\n",
       "      <td>0.0</td>\n",
       "      <td>0.0</td>\n",
       "      <td>1.0</td>\n",
       "      <td>0.776</td>\n",
       "      <td>47</td>\n",
       "      <td>0.0</td>\n",
       "    </tr>\n",
       "    <tr>\n",
       "      <th>2</th>\n",
       "      <td>0.0</td>\n",
       "      <td>2.0</td>\n",
       "      <td>5.0</td>\n",
       "      <td>0.0</td>\n",
       "      <td>0.0</td>\n",
       "      <td>0.0</td>\n",
       "      <td>0.0</td>\n",
       "      <td>1.0</td>\n",
       "      <td>0.0</td>\n",
       "      <td>0.0</td>\n",
       "      <td>...</td>\n",
       "      <td>0.0</td>\n",
       "      <td>0.0</td>\n",
       "      <td>0.0</td>\n",
       "      <td>0.0</td>\n",
       "      <td>1.0</td>\n",
       "      <td>0.0</td>\n",
       "      <td>0.0</td>\n",
       "      <td>0.624</td>\n",
       "      <td>83</td>\n",
       "      <td>0.0</td>\n",
       "    </tr>\n",
       "    <tr>\n",
       "      <th>3</th>\n",
       "      <td>0.0</td>\n",
       "      <td>2.0</td>\n",
       "      <td>0.0</td>\n",
       "      <td>0.0</td>\n",
       "      <td>0.0</td>\n",
       "      <td>0.0</td>\n",
       "      <td>0.0</td>\n",
       "      <td>1.0</td>\n",
       "      <td>0.0</td>\n",
       "      <td>0.0</td>\n",
       "      <td>...</td>\n",
       "      <td>0.0</td>\n",
       "      <td>0.0</td>\n",
       "      <td>0.0</td>\n",
       "      <td>1.0</td>\n",
       "      <td>0.0</td>\n",
       "      <td>0.0</td>\n",
       "      <td>1.0</td>\n",
       "      <td>0.789</td>\n",
       "      <td>52</td>\n",
       "      <td>1.0</td>\n",
       "    </tr>\n",
       "    <tr>\n",
       "      <th>4</th>\n",
       "      <td>1.0</td>\n",
       "      <td>3.0</td>\n",
       "      <td>21.0</td>\n",
       "      <td>3.0</td>\n",
       "      <td>4.0</td>\n",
       "      <td>1.0</td>\n",
       "      <td>0.0</td>\n",
       "      <td>0.0</td>\n",
       "      <td>0.0</td>\n",
       "      <td>0.0</td>\n",
       "      <td>...</td>\n",
       "      <td>0.0</td>\n",
       "      <td>0.0</td>\n",
       "      <td>0.0</td>\n",
       "      <td>0.0</td>\n",
       "      <td>0.0</td>\n",
       "      <td>0.0</td>\n",
       "      <td>1.0</td>\n",
       "      <td>0.767</td>\n",
       "      <td>8</td>\n",
       "      <td>0.0</td>\n",
       "    </tr>\n",
       "    <tr>\n",
       "      <th>...</th>\n",
       "      <td>...</td>\n",
       "      <td>...</td>\n",
       "      <td>...</td>\n",
       "      <td>...</td>\n",
       "      <td>...</td>\n",
       "      <td>...</td>\n",
       "      <td>...</td>\n",
       "      <td>...</td>\n",
       "      <td>...</td>\n",
       "      <td>...</td>\n",
       "      <td>...</td>\n",
       "      <td>...</td>\n",
       "      <td>...</td>\n",
       "      <td>...</td>\n",
       "      <td>...</td>\n",
       "      <td>...</td>\n",
       "      <td>...</td>\n",
       "      <td>...</td>\n",
       "      <td>...</td>\n",
       "      <td>...</td>\n",
       "      <td>...</td>\n",
       "    </tr>\n",
       "    <tr>\n",
       "      <th>19153</th>\n",
       "      <td>0.0</td>\n",
       "      <td>2.0</td>\n",
       "      <td>14.0</td>\n",
       "      <td>0.0</td>\n",
       "      <td>1.0</td>\n",
       "      <td>1.0</td>\n",
       "      <td>0.0</td>\n",
       "      <td>0.0</td>\n",
       "      <td>0.0</td>\n",
       "      <td>0.0</td>\n",
       "      <td>...</td>\n",
       "      <td>0.0</td>\n",
       "      <td>0.0</td>\n",
       "      <td>0.0</td>\n",
       "      <td>0.0</td>\n",
       "      <td>1.0</td>\n",
       "      <td>0.0</td>\n",
       "      <td>1.0</td>\n",
       "      <td>0.878</td>\n",
       "      <td>42</td>\n",
       "      <td>1.0</td>\n",
       "    </tr>\n",
       "    <tr>\n",
       "      <th>19154</th>\n",
       "      <td>1.0</td>\n",
       "      <td>2.0</td>\n",
       "      <td>14.0</td>\n",
       "      <td>0.0</td>\n",
       "      <td>4.0</td>\n",
       "      <td>1.0</td>\n",
       "      <td>0.0</td>\n",
       "      <td>0.0</td>\n",
       "      <td>0.0</td>\n",
       "      <td>0.0</td>\n",
       "      <td>...</td>\n",
       "      <td>0.0</td>\n",
       "      <td>0.0</td>\n",
       "      <td>0.0</td>\n",
       "      <td>0.0</td>\n",
       "      <td>1.0</td>\n",
       "      <td>0.0</td>\n",
       "      <td>1.0</td>\n",
       "      <td>0.920</td>\n",
       "      <td>52</td>\n",
       "      <td>1.0</td>\n",
       "    </tr>\n",
       "    <tr>\n",
       "      <th>19155</th>\n",
       "      <td>1.0</td>\n",
       "      <td>2.0</td>\n",
       "      <td>21.0</td>\n",
       "      <td>3.0</td>\n",
       "      <td>4.0</td>\n",
       "      <td>1.0</td>\n",
       "      <td>0.0</td>\n",
       "      <td>0.0</td>\n",
       "      <td>0.0</td>\n",
       "      <td>0.0</td>\n",
       "      <td>...</td>\n",
       "      <td>0.0</td>\n",
       "      <td>0.0</td>\n",
       "      <td>0.0</td>\n",
       "      <td>1.0</td>\n",
       "      <td>0.0</td>\n",
       "      <td>0.0</td>\n",
       "      <td>1.0</td>\n",
       "      <td>0.920</td>\n",
       "      <td>44</td>\n",
       "      <td>0.0</td>\n",
       "    </tr>\n",
       "    <tr>\n",
       "      <th>19156</th>\n",
       "      <td>1.0</td>\n",
       "      <td>1.0</td>\n",
       "      <td>0.0</td>\n",
       "      <td>5.0</td>\n",
       "      <td>2.0</td>\n",
       "      <td>1.0</td>\n",
       "      <td>0.0</td>\n",
       "      <td>0.0</td>\n",
       "      <td>0.0</td>\n",
       "      <td>0.0</td>\n",
       "      <td>...</td>\n",
       "      <td>0.0</td>\n",
       "      <td>0.0</td>\n",
       "      <td>0.0</td>\n",
       "      <td>1.0</td>\n",
       "      <td>0.0</td>\n",
       "      <td>0.0</td>\n",
       "      <td>1.0</td>\n",
       "      <td>0.802</td>\n",
       "      <td>97</td>\n",
       "      <td>0.0</td>\n",
       "    </tr>\n",
       "    <tr>\n",
       "      <th>19157</th>\n",
       "      <td>0.0</td>\n",
       "      <td>0.0</td>\n",
       "      <td>2.0</td>\n",
       "      <td>0.0</td>\n",
       "      <td>1.0</td>\n",
       "      <td>0.0</td>\n",
       "      <td>0.0</td>\n",
       "      <td>1.0</td>\n",
       "      <td>0.0</td>\n",
       "      <td>0.0</td>\n",
       "      <td>...</td>\n",
       "      <td>0.0</td>\n",
       "      <td>0.0</td>\n",
       "      <td>0.0</td>\n",
       "      <td>0.0</td>\n",
       "      <td>1.0</td>\n",
       "      <td>0.0</td>\n",
       "      <td>1.0</td>\n",
       "      <td>0.855</td>\n",
       "      <td>127</td>\n",
       "      <td>0.0</td>\n",
       "    </tr>\n",
       "  </tbody>\n",
       "</table>\n",
       "<p>19158 rows × 147 columns</p>\n",
       "</div>"
      ],
      "text/plain": [
       "       relevent_experience  education_level  experience  company_size  \\\n",
       "0                      1.0              2.0        21.0           0.0   \n",
       "1                      0.0              2.0        15.0           3.0   \n",
       "2                      0.0              2.0         5.0           0.0   \n",
       "3                      0.0              2.0         0.0           0.0   \n",
       "4                      1.0              3.0        21.0           3.0   \n",
       "...                    ...              ...         ...           ...   \n",
       "19153                  0.0              2.0        14.0           0.0   \n",
       "19154                  1.0              2.0        14.0           0.0   \n",
       "19155                  1.0              2.0        21.0           3.0   \n",
       "19156                  1.0              1.0         0.0           5.0   \n",
       "19157                  0.0              0.0         2.0           0.0   \n",
       "\n",
       "       last_new_job  gender_Male  gender_Other  gender_Unknown  city_city_10  \\\n",
       "0               1.0          1.0           0.0             0.0           0.0   \n",
       "1               5.0          1.0           0.0             0.0           0.0   \n",
       "2               0.0          0.0           0.0             1.0           0.0   \n",
       "3               0.0          0.0           0.0             1.0           0.0   \n",
       "4               4.0          1.0           0.0             0.0           0.0   \n",
       "...             ...          ...           ...             ...           ...   \n",
       "19153           1.0          1.0           0.0             0.0           0.0   \n",
       "19154           4.0          1.0           0.0             0.0           0.0   \n",
       "19155           4.0          1.0           0.0             0.0           0.0   \n",
       "19156           2.0          1.0           0.0             0.0           0.0   \n",
       "19157           1.0          0.0           0.0             1.0           0.0   \n",
       "\n",
       "       city_city_100  ...  company_type_NGO  company_type_Other  \\\n",
       "0                0.0  ...               0.0                 0.0   \n",
       "1                0.0  ...               0.0                 0.0   \n",
       "2                0.0  ...               0.0                 0.0   \n",
       "3                0.0  ...               0.0                 0.0   \n",
       "4                0.0  ...               0.0                 0.0   \n",
       "...              ...  ...               ...                 ...   \n",
       "19153            0.0  ...               0.0                 0.0   \n",
       "19154            0.0  ...               0.0                 0.0   \n",
       "19155            0.0  ...               0.0                 0.0   \n",
       "19156            0.0  ...               0.0                 0.0   \n",
       "19157            0.0  ...               0.0                 0.0   \n",
       "\n",
       "       company_type_Public Sector  company_type_Pvt Ltd  company_type_Unknown  \\\n",
       "0                             0.0                   0.0                   1.0   \n",
       "1                             0.0                   1.0                   0.0   \n",
       "2                             0.0                   0.0                   1.0   \n",
       "3                             0.0                   1.0                   0.0   \n",
       "4                             0.0                   0.0                   0.0   \n",
       "...                           ...                   ...                   ...   \n",
       "19153                         0.0                   0.0                   1.0   \n",
       "19154                         0.0                   0.0                   1.0   \n",
       "19155                         0.0                   1.0                   0.0   \n",
       "19156                         0.0                   1.0                   0.0   \n",
       "19157                         0.0                   0.0                   1.0   \n",
       "\n",
       "       enrolled_university_Part time course  \\\n",
       "0                                       0.0   \n",
       "1                                       0.0   \n",
       "2                                       0.0   \n",
       "3                                       0.0   \n",
       "4                                       0.0   \n",
       "...                                     ...   \n",
       "19153                                   0.0   \n",
       "19154                                   0.0   \n",
       "19155                                   0.0   \n",
       "19156                                   0.0   \n",
       "19157                                   0.0   \n",
       "\n",
       "       enrolled_university_no_enrollment  city_development_index  \\\n",
       "0                                    1.0                   0.920   \n",
       "1                                    1.0                   0.776   \n",
       "2                                    0.0                   0.624   \n",
       "3                                    1.0                   0.789   \n",
       "4                                    1.0                   0.767   \n",
       "...                                  ...                     ...   \n",
       "19153                                1.0                   0.878   \n",
       "19154                                1.0                   0.920   \n",
       "19155                                1.0                   0.920   \n",
       "19156                                1.0                   0.802   \n",
       "19157                                1.0                   0.855   \n",
       "\n",
       "       training_hours  target  \n",
       "0                  36     1.0  \n",
       "1                  47     0.0  \n",
       "2                  83     0.0  \n",
       "3                  52     1.0  \n",
       "4                   8     0.0  \n",
       "...               ...     ...  \n",
       "19153              42     1.0  \n",
       "19154              52     1.0  \n",
       "19155              44     0.0  \n",
       "19156              97     0.0  \n",
       "19157             127     0.0  \n",
       "\n",
       "[19158 rows x 147 columns]"
      ]
     },
     "execution_count": 55,
     "metadata": {},
     "output_type": "execute_result"
    }
   ],
   "source": [
    "data_3"
   ]
  },
  {
   "cell_type": "markdown",
   "id": "a7398fec",
   "metadata": {},
   "source": [
    "## data_3 is absolutely ready for modelling"
   ]
  },
  {
   "cell_type": "markdown",
   "id": "95ee1dae",
   "metadata": {},
   "source": [
    "#### PS: Data is imbalanced, first work with that. if result is not satisfactory, then we will apply upsampling"
   ]
  },
  {
   "cell_type": "code",
   "execution_count": 56,
   "id": "a1c39127",
   "metadata": {},
   "outputs": [],
   "source": [
    "# train-validation-split\n",
    "X=data_3.loc[:,data_3.columns!='target']\n",
    "y=data_3['target']\n",
    "\n",
    "X_train, X_validation, y_train, y_validation = train_test_split(X, y, test_size=0.20, random_state=60)"
   ]
  },
  {
   "cell_type": "code",
   "execution_count": 57,
   "id": "fe65b1ab",
   "metadata": {},
   "outputs": [],
   "source": [
    "LR=LogisticRegression()"
   ]
  },
  {
   "cell_type": "code",
   "execution_count": 58,
   "id": "2e4404d5",
   "metadata": {},
   "outputs": [],
   "source": [
    "LR.fit(X_train,y_train)\n",
    "pred_LR_valid=LR.predict(X_validation)\n",
    "pred_LR_train=LR.predict(X_train)"
   ]
  },
  {
   "cell_type": "code",
   "execution_count": 59,
   "id": "5ea052fd",
   "metadata": {},
   "outputs": [
    {
     "name": "stdout",
     "output_type": "stream",
     "text": [
      "training accuracy is 0.7758058201748662\n",
      "validation accuracy is 0.7813152400835073\n",
      "training f1 score is 0.42561016382480776\n",
      "validation f1 score is 0.41643454038997213\n",
      "training roc auc score is 0.6278738717487792\n",
      "validation roc auc score is 0.6252957758070822\n"
     ]
    }
   ],
   "source": [
    "print(f\"training accuracy is {LR.score(X_train,y_train)}\")  #training accuracy\n",
    "print(f\"validation accuracy is {LR.score(X_validation,y_validation)}\")\n",
    "print(f\"training f1 score is {f1_score(y_train,pred_LR_train)}\")\n",
    "print(f\"validation f1 score is {f1_score(y_validation,pred_LR_valid)}\")\n",
    "print(f\"training roc auc score is {roc_auc_score(y_train,pred_LR_train)}\")\n",
    "print(f\"validation roc auc score is {roc_auc_score(y_validation,pred_LR_valid)}\")\n"
   ]
  },
  {
   "cell_type": "code",
   "execution_count": 60,
   "id": "cb200be4",
   "metadata": {},
   "outputs": [
    {
     "name": "stdout",
     "output_type": "stream",
     "text": [
      "1\n",
      "[[2625  539]\n",
      " [ 290  378]] 0.7836638830897703 0.6977571405860845 0.4769716088328076\n",
      "[[10346  2221]\n",
      " [ 1120  1639]] 0.7820044369046065 0.7086615523324881 0.49524097295663994\n",
      "2\n",
      "[[2625  539]\n",
      " [ 290  378]] 0.7836638830897703 0.6977571405860845 0.4769716088328076\n",
      "[[10346  2221]\n",
      " [ 1120  1639]] 0.7820044369046065 0.7086615523324881 0.49524097295663994\n",
      "3\n",
      "[[2628  539]\n",
      " [ 287  378]] 0.784446764091858 0.6991142206637528 0.4778761061946903\n",
      "[[10362  2229]\n",
      " [ 1104  1631]] 0.7825264256818478 0.709656240049587 0.4946171341925701\n",
      "4\n",
      "[[2541  421]\n",
      " [ 374  496]] 0.7925365344467641 0.713990624539182 0.5551203133743705\n",
      "[[10050  1800]\n",
      " [ 1416  2060]] 0.7901605115490017 0.720368239355581 0.5616139585605235\n",
      "5\n",
      "[[2560  424]\n",
      " [ 355  493]] 0.7967118997912317 0.7196383858566442 0.5586402266288951\n",
      "[[10111  1814]\n",
      " [ 1355  2046]] 0.7932271956152943 0.7247351839420765 0.563558738465776\n",
      "6\n",
      "[[2514  390]\n",
      " [ 401  527]] 0.793580375782881 0.7167952051866628 0.5712737127371275\n",
      "[[10018  1562]\n",
      " [ 1448  2298]] 0.8036017225629649 0.7392833069148255 0.6042597948987641\n",
      "7\n",
      "[[2508  373]\n",
      " [ 407  544]] 0.7964509394572025 0.7212802541470624 0.5824411134903641\n",
      "[[10013  1470]\n",
      " [ 1453  2390]] 0.8092783505154639 0.7469473195835616 0.6205374529404127\n",
      "8\n",
      "[[2492  378]\n",
      " [ 423  539]] 0.7909707724425887 0.7142918716089448 0.5737094199042043\n",
      "[[10066  1437]\n",
      " [ 1400  2423]] 0.8148897298708078 0.7544357578567512 0.630743199271118\n",
      "9\n",
      "[[2491  380]\n",
      " [ 424  537]] 0.7901878914405011 0.7132174303224574 0.5718849840255591\n",
      "[[10095  1389]\n",
      " [ 1371  2471]] 0.8199138718517552 0.7611018593916331 0.6416515190859517\n",
      "10\n",
      "[[2489  394]\n",
      " [ 426  523]] 0.7860125260960334 0.7072216148805889 0.5605573419078242\n",
      "[[10197  1349]\n",
      " [ 1269  2511]] 0.8291791726477881 0.7737243572294672 0.6573298429319371\n",
      "11\n",
      "[[2479  396]\n",
      " [ 436  521]] 0.7828810020876826 0.703335241470174 0.5560298826040555\n",
      "[[10267  1281]\n",
      " [ 1199  2579]] 0.8381834790552003 0.7858540081191255 0.6753076721654884\n",
      "12\n",
      "[[2483  405]\n",
      " [ 432  512]] 0.7815762004175365 0.7010687121461101 0.5502418054809243\n",
      "[[10328  1207]\n",
      " [ 1138  2653]] 0.8469920396711471 0.7975886470328684 0.6935041171088747\n",
      "13\n",
      "[[2483  405]\n",
      " [ 432  512]] 0.7815762004175365 0.7010687121461101 0.5502418054809243\n",
      "[[10404  1142]\n",
      " [ 1062  2718]] 0.8561920918700248 0.8100694530367145 0.7115183246073299\n",
      "14\n",
      "[[2484  425]\n",
      " [ 431  492]] 0.7766179540709812 0.6934730523980013 0.5347826086956521\n",
      "[[10522  1116]\n",
      " [  944  2744]] 0.865587889860368 0.8240709710392204 0.7270800211976683\n",
      "15\n",
      "[[2470  438]\n",
      " [ 445  479]] 0.769572025052192 0.683889643139987 0.5203693644758284\n",
      "[[10599  1034]\n",
      " [  867  2826]] 0.8759624168080387 0.8381732253750518 0.7483119290348206\n",
      "16\n",
      "[[2483  467]\n",
      " [ 432  450]] 0.7653966597077244 0.6759494984434451 0.500277932184547\n",
      "[[10764  1035]\n",
      " [  702  2825]] 0.886663186741485 0.8566223469078139 0.7648571815351293\n",
      "17\n",
      "[[2462  470]\n",
      " [ 453  447]] 0.759133611691023 0.6681832651205093 0.49201981287837093\n",
      "[[10838   915]\n",
      " [  628  2945]] 0.8993214145895864 0.8731924361857317 0.7924122157944301\n",
      "18\n",
      "[[2464  475]\n",
      " [ 451  442]] 0.7583507306889353 0.6666706038840523 0.4883977900552486\n",
      "[[10926   844]\n",
      " [  540  3016]] 0.909695941537257 0.888218125240717 0.8133764832793958\n",
      "19\n",
      "[[2438  470]\n",
      " [ 477  447]] 0.7528705636743215 0.6610715625502421 0.485605649103748\n",
      "[[10999   749]\n",
      " [  467  3111]] 0.920657705859324 0.9028623118276806 0.8365151922559829\n"
     ]
    }
   ],
   "source": [
    "tst=[]\n",
    "trn=[]\n",
    "f1_tst=[]\n",
    "f1_tr=[]\n",
    "X_test=X_validation\n",
    "y_test=y_validation\n",
    "for i in range(1,20):\n",
    "    clf_p = DecisionTreeClassifier(max_depth=i)\n",
    "    clf_p = clf_p.fit(X_train, y_train)\n",
    "    y_pred_test=clf_p.predict(X_test)\n",
    "    print(i)\n",
    "    print(confusion_matrix(y_pred_test,y_test), accuracy_score(y_pred_test,y_test), roc_auc_score(y_pred_test,y_test),f1_score(y_pred_test,y_test))\n",
    "    tst.append(accuracy_score(y_pred_test,y_test))\n",
    "    f1_tst.append(f1_score(y_pred_test,y_test))\n",
    "    y_pred_train=clf_p.predict(X_train)\n",
    "    print(confusion_matrix(y_pred_train,y_train),accuracy_score(y_pred_train,y_train), roc_auc_score(y_pred_train,y_train),f1_score(y_pred_train,y_train))\n",
    "    trn.append(accuracy_score(y_pred_train,y_train))\n",
    "    f1_tr.append(f1_score(y_pred_train,y_train))\n",
    "    \n"
   ]
  },
  {
   "cell_type": "code",
   "execution_count": 61,
   "id": "3c625b18",
   "metadata": {},
   "outputs": [
    {
     "name": "stdout",
     "output_type": "stream",
     "text": [
      "19\n",
      "[[2376  495]\n",
      " [ 539  422]] 0.7301670146137788 0.6333560587032185 0.4494142705005325\n",
      "[[11427   116]\n",
      " [   39  3744]] 0.98988646744095 0.9898206705362558 0.9797200052335471\n"
     ]
    }
   ],
   "source": [
    "clf_p = DecisionTreeClassifier(max_depth=30)\n",
    "clf_p = clf_p.fit(X_train, y_train)\n",
    "y_pred_test=clf_p.predict(X_test)\n",
    "print(i)\n",
    "print(confusion_matrix(y_pred_test,y_test), accuracy_score(y_pred_test,y_test), roc_auc_score(y_pred_test,y_test),f1_score(y_pred_test,y_test))\n",
    "tst.append(accuracy_score(y_pred_test,y_test))\n",
    "f1_tst.append(f1_score(y_pred_test,y_test))\n",
    "y_pred_train=clf_p.predict(X_train)\n",
    "print(confusion_matrix(y_pred_train,y_train),accuracy_score(y_pred_train,y_train), roc_auc_score(y_pred_train,y_train),f1_score(y_pred_train,y_train))\n",
    "trn.append(accuracy_score(y_pred_train,y_train))\n",
    "f1_tr.append(f1_score(y_pred_train,y_train))\n",
    "    "
   ]
  },
  {
   "cell_type": "code",
   "execution_count": 62,
   "id": "26fc4e5e",
   "metadata": {},
   "outputs": [
    {
     "data": {
      "text/plain": [
       "[<matplotlib.lines.Line2D at 0x1e654e70cd0>]"
      ]
     },
     "execution_count": 62,
     "metadata": {},
     "output_type": "execute_result"
    },
    {
     "data": {
      "image/png": "[encoded data removed]",
      "text/plain": [
       "<Figure size 432x288 with 1 Axes>"
      ]
     },
     "metadata": {},
     "output_type": "display_data"
    }
   ],
   "source": [
    "plt.plot(tst)\n",
    "plt.plot(trn)"
   ]
  },
  {
   "cell_type": "code",
   "execution_count": 63,
   "id": "fbd95351",
   "metadata": {},
   "outputs": [
    {
     "data": {
      "text/plain": [
       "Text(0.5, 1.0, 'Decision Tree Model')"
      ]
     },
     "execution_count": 63,
     "metadata": {},
     "output_type": "execute_result"
    },
    {
     "data": {
      "image/png": "[encoded data removed]",
      "text/plain": [
       "<Figure size 432x288 with 1 Axes>"
      ]
     },
     "metadata": {},
     "output_type": "display_data"
    }
   ],
   "source": [
    "plt.plot(f1_tr,label='f1 Score Train')\n",
    "plt.plot(f1_tst,label='f1 Score Test')\n",
    "plt.legend()\n",
    "plt.ylabel('f1 Score')\n",
    "plt.xlabel('max depth')\n",
    "plt.title('Decision Tree Model')"
   ]
  },
  {
   "cell_type": "code",
   "execution_count": 64,
   "id": "19a28e0a",
   "metadata": {},
   "outputs": [],
   "source": [
    "# from the above graph and the data it is clear that the best model is one at depth =4"
   ]
  },
  {
   "cell_type": "code",
   "execution_count": 65,
   "id": "390c0d41",
   "metadata": {},
   "outputs": [
    {
     "data": {
      "text/plain": [
       "'AIML_final_1.pdf'"
      ]
     },
     "execution_count": 65,
     "metadata": {},
     "output_type": "execute_result"
    }
   ],
   "source": [
    "dot_data = tree.export_graphviz(clf_p, out_file=None, \n",
    "                      feature_names=X_train.columns,  \n",
    "                      class_names=['no','yes'],  \n",
    "                      filled=True, rounded=True,  \n",
    "                      special_characters=True)  \n",
    "graph = graphviz.Source(dot_data)  \n",
    "graph.render('AIML_final_1')"
   ]
  },
  {
   "cell_type": "code",
   "execution_count": 66,
   "id": "f54e0fe0",
   "metadata": {},
   "outputs": [
    {
     "name": "stdout",
     "output_type": "stream",
     "text": [
      "1\n",
      "training accuracy is 0.7481404149810779\n",
      "validation accuracy is 0.7606993736951984\n",
      "training f1 score is 0.0\n",
      "validation f1 score is 0.0\n",
      "training roc auc score is 0.5\n",
      "validation roc auc score is 0.5\n",
      "2\n",
      "training accuracy is 0.7481404149810779\n",
      "validation accuracy is 0.7606993736951984\n",
      "training f1 score is 0.0\n",
      "validation f1 score is 0.0\n",
      "training roc auc score is 0.5\n",
      "validation roc auc score is 0.5\n",
      "3\n",
      "training accuracy is 0.7481404149810779\n",
      "validation accuracy is 0.7606993736951984\n",
      "training f1 score is 0.0\n",
      "validation f1 score is 0.0\n",
      "training roc auc score is 0.5\n",
      "validation roc auc score is 0.5\n",
      "4\n",
      "training accuracy is 0.7486624037583192\n",
      "validation accuracy is 0.7609603340292276\n",
      "training f1 score is 0.007727975270479134\n",
      "validation f1 score is 0.006507592190889371\n",
      "training roc auc score is 0.5016377548760969\n",
      "validation roc auc score is 0.5012927156380995\n",
      "5\n",
      "training accuracy is 0.7544042803079734\n",
      "validation accuracy is 0.7643528183716075\n",
      "training f1 score is 0.09822712026832774\n",
      "validation f1 score is 0.07574206755373591\n",
      "training roc auc score is 0.5218012208204659\n",
      "validation roc auc score is 0.5162293705142618\n",
      "6\n",
      "training accuracy is 0.7585801905259036\n",
      "validation accuracy is 0.7627870563674322\n",
      "training f1 score is 0.14628518689432393\n",
      "validation f1 score is 0.10619469026548672\n",
      "training roc auc score is 0.5342158478909034\n",
      "validation roc auc score is 0.5215536156195814\n",
      "7\n",
      "training accuracy is 0.7689547174735744\n",
      "validation accuracy is 0.767223382045929\n",
      "training f1 score is 0.229379760609358\n",
      "validation f1 score is 0.1756007393715342\n",
      "training roc auc score is 0.5591939539200826\n",
      "validation roc auc score is 0.5397924846290106\n",
      "8\n",
      "training accuracy is 0.7865065901083127\n",
      "validation accuracy is 0.7774008350730689\n",
      "training f1 score is 0.38932437476670395\n",
      "validation f1 score is 0.32031872509960163\n",
      "training roc auc score is 0.6152623571017353\n",
      "validation roc auc score is 0.5860973679928023\n",
      "9\n",
      "training accuracy is 0.7928357040323633\n",
      "validation accuracy is 0.7774008350730689\n",
      "training f1 score is 0.4039797259245354\n",
      "validation f1 score is 0.32887490165224237\n",
      "training roc auc score is 0.6223278284344163\n",
      "validation roc auc score is 0.5890872054634118\n",
      "10\n",
      "training accuracy is 0.8071903954064987\n",
      "validation accuracy is 0.781054279749478\n",
      "training f1 score is 0.5111662531017369\n",
      "validation f1 score is 0.410400562192551\n",
      "training roc auc score is 0.6722209343415858\n",
      "validation roc auc score is 0.6225081414336779\n",
      "11\n",
      "training accuracy is 0.8221975727521859\n",
      "validation accuracy is 0.7841858037578288\n",
      "training f1 score is 0.5761393684865453\n",
      "validation f1 score is 0.45841519318926\n",
      "training roc auc score is 0.7086300203620707\n",
      "validation roc auc score is 0.6462427821350477\n",
      "12\n",
      "training accuracy is 0.834399060420201\n",
      "validation accuracy is 0.7818371607515657\n",
      "training f1 score is 0.6125190839694657\n",
      "validation f1 score is 0.46064516129032257\n",
      "training roc auc score is 0.730017244043891\n",
      "validation roc auc score is 0.6473151506422427\n",
      "13\n",
      "training accuracy is 0.8498629779459742\n",
      "validation accuracy is 0.7917536534446764\n",
      "training f1 score is 0.6604692341744135\n",
      "validation f1 score is 0.511029411764706\n",
      "training roc auc score is 0.7602870934477152\n",
      "validation roc auc score is 0.6762569419634088\n",
      "14\n",
      "training accuracy is 0.8598460133107139\n",
      "validation accuracy is 0.7964509394572025\n",
      "training f1 score is 0.6916451335055986\n",
      "validation f1 score is 0.5400943396226415\n",
      "training roc auc score is 0.7816524231587149\n",
      "validation roc auc score is 0.6946673375594591\n",
      "15\n",
      "training accuracy is 0.8725694897559703\n",
      "validation accuracy is 0.7938413361169102\n",
      "training f1 score is 0.7162574458811565\n",
      "validation f1 score is 0.533096926713948\n",
      "training roc auc score is 0.7949677080876193\n",
      "validation roc auc score is 0.6903359639064665\n",
      "16\n",
      "training accuracy is 0.8814432989690721\n",
      "validation accuracy is 0.7972338204592901\n",
      "training f1 score is 0.7400200314780371\n",
      "validation f1 score is 0.5442815249266862\n",
      "training roc auc score is 0.8112953910141179\n",
      "validation roc auc score is 0.697424295422279\n",
      "17\n",
      "training accuracy is 0.8890121362390708\n",
      "validation accuracy is 0.7974947807933194\n",
      "training f1 score is 0.755287009063444\n",
      "validation f1 score is 0.5488372093023255\n",
      "training roc auc score is 0.8197049578433738\n",
      "validation roc auc score is 0.7005856594795095\n",
      "18\n",
      "training accuracy is 0.8988646744095002\n",
      "validation accuracy is 0.793580375782881\n",
      "training f1 score is 0.7758820127241179\n",
      "validation f1 score is 0.5382370110916521\n",
      "training roc auc score is 0.8312733795524321\n",
      "validation roc auc score is 0.6939017341581075\n",
      "19\n",
      "training accuracy is 0.9078689808169125\n",
      "validation accuracy is 0.7967118997912317\n",
      "training f1 score is 0.7961305226682067\n",
      "validation f1 score is 0.5457725947521865\n",
      "training roc auc score is 0.8436497317141284\n",
      "validation roc auc score is 0.6985761609843419\n",
      "20\n",
      "training accuracy is 0.9160903040584627\n",
      "validation accuracy is 0.7954070981210856\n",
      "training f1 score is 0.8144835545297172\n",
      "validation f1 score is 0.540983606557377\n",
      "training roc auc score is 0.8548153856999157\n",
      "validation roc auc score is 0.6954761499482801\n",
      "21\n",
      "training accuracy is 0.920657705859324\n",
      "validation accuracy is 0.7941022964509394\n",
      "training f1 score is 0.8254378409417169\n",
      "validation f1 score is 0.5404775771694816\n",
      "training roc auc score is 0.8623360663516104\n",
      "validation roc auc score is 0.6953659763828278\n",
      "22\n",
      "training accuracy is 0.9272478141719953\n",
      "validation accuracy is 0.7943632567849687\n",
      "training f1 score is 0.8398678730432284\n",
      "validation f1 score is 0.5397196261682242\n",
      "training roc auc score is 0.8709507903068229\n",
      "validation roc auc score is 0.6947900436017964\n",
      "23\n",
      "training accuracy is 0.936839357953804\n",
      "validation accuracy is 0.7941022964509394\n",
      "training f1 score is 0.8620296465222349\n",
      "validation f1 score is 0.5420777713290771\n",
      "training roc auc score is 0.885953695946294\n",
      "validation roc auc score is 0.6964871654343066\n",
      "24\n",
      "training accuracy is 0.9434947148636305\n",
      "validation accuracy is 0.7907098121085595\n",
      "training f1 score is 0.8772327757300822\n",
      "validation f1 score is 0.5320886814469078\n",
      "training roc auc score is 0.8964164834261059\n",
      "validation roc auc score is 0.6901462932861464\n",
      "25\n",
      "training accuracy is 0.9478663708730263\n",
      "validation accuracy is 0.7888830897703549\n",
      "training f1 score is 0.88738548273432\n",
      "validation f1 score is 0.523837551500883\n",
      "training roc auc score is 0.9039781955029919\n",
      "validation roc auc score is 0.6848345806577119\n",
      "26\n",
      "training accuracy is 0.9534125016312149\n",
      "validation accuracy is 0.7907098121085595\n",
      "training f1 score is 0.9\n",
      "validation f1 score is 0.5309941520467837\n",
      "training roc auc score is 0.9132700283514495\n",
      "validation roc auc score is 0.6893988339184941\n",
      "27\n",
      "training accuracy is 0.9577841576406108\n",
      "validation accuracy is 0.7943632567849687\n",
      "training f1 score is 0.9097754845907126\n",
      "validation f1 score is 0.5386416861826698\n",
      "training roc auc score is 0.9204021079668748\n",
      "validation roc auc score is 0.694042584234144\n",
      "28\n",
      "training accuracy is 0.9633302883987994\n",
      "validation accuracy is 0.7901878914405011\n",
      "training f1 score is 0.9221822209914151\n",
      "validation f1 score is 0.5292740046838407\n",
      "training roc auc score is 0.9299517202922088\n",
      "validation roc auc score is 0.6883083213775998\n",
      "29\n",
      "training accuracy is 0.9665927182565575\n",
      "validation accuracy is 0.7904488517745303\n",
      "training f1 score is 0.9294571507302287\n",
      "validation f1 score is 0.5251330573625074\n",
      "training roc auc score is 0.9358269187839876\n",
      "validation roc auc score is 0.6854900104936112\n",
      "30\n",
      "training accuracy is 0.968419678976902\n",
      "validation accuracy is 0.7914926931106472\n",
      "training f1 score is 0.9334616442122629\n",
      "validation f1 score is 0.5269390171699231\n",
      "training roc auc score is 0.938938302835416\n",
      "validation roc auc score is 0.6865498465239211\n",
      "31\n",
      "training accuracy is 0.9698551481143155\n",
      "validation accuracy is 0.7904488517745303\n",
      "training f1 score is 0.9365733113673804\n",
      "validation f1 score is 0.5240071132187315\n",
      "training roc auc score is 0.9412724848143057\n",
      "validation roc auc score is 0.6847425511259589\n",
      "32\n",
      "training accuracy is 0.9754012788725043\n",
      "validation accuracy is 0.7881002087682673\n",
      "training f1 score is 0.9487980442754311\n",
      "validation f1 score is 0.5200945626477541\n",
      "training roc auc score is 0.9520250680317297\n",
      "validation roc auc score is 0.6824513524787182\n",
      "33\n",
      "training accuracy is 0.9765105050241419\n",
      "validation accuracy is 0.7836638830897703\n",
      "training f1 score is 0.9512195121951219\n",
      "validation f1 score is 0.5126396237507348\n",
      "training roc auc score is 0.95422714057059\n",
      "validation roc auc score is 0.6780404817708577\n"
     ]
    },
    {
     "name": "stdout",
     "output_type": "stream",
     "text": [
      "34\n",
      "training accuracy is 0.9790552003131933\n",
      "validation accuracy is 0.7862734864300627\n",
      "training f1 score is 0.9567210462451126\n",
      "validation f1 score is 0.5185185185185185\n",
      "training roc auc score is 0.9591930275498003\n",
      "validation roc auc score is 0.6816243960561978\n",
      "35\n",
      "training accuracy is 0.9827091217538823\n",
      "validation accuracy is 0.7828810020876826\n",
      "training f1 score is 0.9645484949832775\n",
      "validation f1 score is 0.5117370892018778\n",
      "training roc auc score is 0.9665328400524551\n",
      "validation roc auc score is 0.6775259020109949\n",
      "36\n",
      "training accuracy is 0.9844708338770717\n",
      "validation accuracy is 0.784446764091858\n",
      "training f1 score is 0.96825820218725\n",
      "validation f1 score is 0.5146886016451233\n",
      "training roc auc score is 0.9698583963942957\n",
      "validation roc auc score is 0.6793025208983727\n",
      "37\n",
      "training accuracy is 0.9868197833746575\n",
      "validation accuracy is 0.7888830897703549\n",
      "training f1 score is 0.9731739707835325\n",
      "validation f1 score is 0.5193107546048723\n",
      "training roc auc score is 0.9743497558449447\n",
      "validation roc auc score is 0.6818447431871024\n",
      "38\n",
      "training accuracy is 0.9873417721518988\n",
      "validation accuracy is 0.7847077244258872\n",
      "training f1 score is 0.9742773800053036\n",
      "validation f1 score is 0.5098039215686274\n",
      "training roc auc score is 0.9755578782595807\n",
      "validation roc auc score is 0.6761104803305581\n",
      "39\n",
      "training accuracy is 0.988646744095002\n",
      "validation accuracy is 0.7881002087682673\n",
      "training f1 score is 0.9769841269841271\n",
      "validation f1 score is 0.5200945626477541\n",
      "training roc auc score is 0.9780626253424181\n",
      "validation roc auc score is 0.6824513524787182\n",
      "40\n",
      "training accuracy is 0.9926921571186219\n",
      "validation accuracy is 0.7834029227557411\n",
      "training f1 score is 0.9853018372703412\n",
      "validation f1 score is 0.511764705882353\n",
      "training roc auc score is 0.9860077869330275\n",
      "validation roc auc score is 0.6774952255004106\n",
      "41\n",
      "training accuracy is 0.9938666318674149\n",
      "validation accuracy is 0.7865344467640919\n",
      "training f1 score is 0.9876931133804661\n",
      "validation f1 score is 0.5193889541715629\n",
      "training roc auc score is 0.9883393931506441\n",
      "validation roc auc score is 0.682169652326645\n",
      "42\n",
      "training accuracy is 0.9943886206446562\n",
      "validation accuracy is 0.7831419624217119\n",
      "training f1 score is 0.9887522887784463\n",
      "validation f1 score is 0.5103123158515027\n",
      "training roc auc score is 0.989375662580696\n",
      "validation roc auc score is 0.6765762395461373\n",
      "43\n",
      "training accuracy is 0.9946496150332768\n",
      "validation accuracy is 0.7828810020876826\n",
      "training f1 score is 0.9892838473601673\n",
      "validation f1 score is 0.5094339622641509\n",
      "training roc auc score is 0.9899797237880139\n",
      "validation roc auc score is 0.6760309832756901\n",
      "44\n",
      "training accuracy is 0.9954325981991388\n",
      "validation accuracy is 0.7862734864300627\n",
      "training f1 score is 0.9908640041764553\n",
      "validation f1 score is 0.5156712004730929\n",
      "training roc auc score is 0.9914482014407996\n",
      "validation roc auc score is 0.679755747637067\n",
      "45\n",
      "training accuracy is 0.9968028187393971\n",
      "validation accuracy is 0.7852296450939458\n",
      "training f1 score is 0.9936222829623844\n",
      "validation f1 score is 0.5144542772861357\n",
      "training roc auc score is 0.9941684086946855\n",
      "validation roc auc score is 0.6790696412905833\n",
      "46\n",
      "training accuracy is 0.9975205533081039\n",
      "validation accuracy is 0.7834029227557411\n",
      "training f1 score is 0.9950610865609566\n",
      "validation f1 score is 0.5111896348645466\n",
      "training roc auc score is 0.9955932791610069\n",
      "validation roc auc score is 0.6771214958165844\n",
      "47\n",
      "training accuracy is 0.9981077906825003\n",
      "validation accuracy is 0.7857515657620042\n",
      "training f1 score is 0.9962352330260938\n",
      "validation f1 score is 0.516774573278399\n",
      "training roc auc score is 0.996759082269815\n",
      "validation roc auc score is 0.6805338835153036\n",
      "48\n",
      "training accuracy is 0.9981077906825003\n",
      "validation accuracy is 0.7834029227557411\n",
      "training f1 score is 0.9962362102530823\n",
      "validation f1 score is 0.5106132075471699\n",
      "training roc auc score is 0.9968450087621072\n",
      "validation roc auc score is 0.6767477661327582\n",
      "49\n",
      "training accuracy is 0.9983687850711209\n",
      "validation accuracy is 0.7818371607515657\n",
      "training f1 score is 0.9967561956662775\n",
      "validation f1 score is 0.5076560659599529\n",
      "training roc auc score is 0.9972772169848411\n",
      "validation roc auc score is 0.6749711472453803\n"
     ]
    }
   ],
   "source": [
    "'''Takes quite a while to execute'''\n",
    "tst=[]\n",
    "trn=[]\n",
    "auc_t=[]\n",
    "auc_v=[]\n",
    "f1_t=[]\n",
    "f1_v=[]\n",
    "for i in range(1,50):\n",
    "    rfc=RandomForestClassifier(max_depth=i, random_state=0)\n",
    "    rfc.fit(X_train, y_train)\n",
    "    y_pred_train=rfc.predict(X_train)\n",
    "    y_pred_test=rfc.predict(X_test)\n",
    "    print(i)\n",
    "    print(f\"training accuracy is {rfc.score(X_train,y_train)}\")  #training accuracy\n",
    "    trn.append(rfc.score(X_train,y_train))\n",
    "    print(f\"validation accuracy is {rfc.score(X_validation,y_validation)}\")\n",
    "    tst.append(rfc.score(X_validation,y_validation))\n",
    "    print(f\"training f1 score is {f1_score(y_train,y_pred_train)}\")\n",
    "    f1_t.append(f1_score(y_train,y_pred_train))\n",
    "    print(f\"validation f1 score is {f1_score(y_validation,y_pred_test)}\")\n",
    "    f1_v.append(f1_score(y_validation,y_pred_test))\n",
    "    print(f\"training roc auc score is {roc_auc_score(y_train,y_pred_train)}\")\n",
    "    auc_t.append(roc_auc_score(y_train,y_pred_train))\n",
    "    print(f\"validation roc auc score is {roc_auc_score(y_validation,y_pred_test)}\")\n",
    "    auc_v.append(roc_auc_score(y_validation,y_pred_test))"
   ]
  },
  {
   "cell_type": "code",
   "execution_count": 67,
   "id": "55ac621a",
   "metadata": {
    "scrolled": true
   },
   "outputs": [
    {
     "data": {
      "text/plain": [
       "<matplotlib.legend.Legend at 0x1e657f25be0>"
      ]
     },
     "execution_count": 67,
     "metadata": {},
     "output_type": "execute_result"
    },
    {
     "data": {
      "image/png": "[encoded data removed]",
      "text/plain": [
       "<Figure size 432x288 with 1 Axes>"
      ]
     },
     "metadata": {},
     "output_type": "display_data"
    }
   ],
   "source": [
    "plt.plot(trn,label='train_accuracy')\n",
    "plt.plot(tst,label= 'test accuracy')\n",
    "plt.plot(auc_t,label='auc score train')\n",
    "plt.plot(auc_v,label='auc score test')\n",
    "plt.plot(f1_t,label='f1 score train')\n",
    "plt.plot(f1_v, label='f1 score test')\n",
    "plt.legend()"
   ]
  },
  {
   "cell_type": "code",
   "execution_count": 68,
   "id": "b1e28e12",
   "metadata": {
    "scrolled": true
   },
   "outputs": [
    {
     "data": {
      "text/plain": [
       "<matplotlib.legend.Legend at 0x1e654efc5b0>"
      ]
     },
     "execution_count": 68,
     "metadata": {},
     "output_type": "execute_result"
    },
    {
     "data": {
      "image/png": "[encoded data removed]",
      "text/plain": [
       "<Figure size 432x288 with 1 Axes>"
      ]
     },
     "metadata": {},
     "output_type": "display_data"
    }
   ],
   "source": [
    "#plt.plot(trn,label='train_accuracy')\n",
    "#plt.plot(tst,label= 'test accuracy')\n",
    "#plt.plot(auc_t,label='auc score train')\n",
    "#plt.plot(auc_v,label='auc score test')\n",
    "plt.plot(f1_t,label='f1 score train')\n",
    "plt.plot(f1_v, label='f1 score test')\n",
    "plt.xlabel('max depth')\n",
    "plt.ylabel('f1 Score')\n",
    "plt.title('Random Forest Model')\n",
    "plt.legend()"
   ]
  },
  {
   "cell_type": "code",
   "execution_count": 69,
   "id": "bbd4edab",
   "metadata": {},
   "outputs": [
    {
     "data": {
      "text/plain": [
       "17"
      ]
     },
     "execution_count": 69,
     "metadata": {},
     "output_type": "execute_result"
    }
   ],
   "source": [
    "auc_v.index(max(auc_v))+1"
   ]
  },
  {
   "cell_type": "code",
   "execution_count": null,
   "id": "f9e7fa78",
   "metadata": {},
   "outputs": [],
   "source": []
  },
  {
   "cell_type": "code",
   "execution_count": null,
   "id": "c923ca48",
   "metadata": {},
   "outputs": [],
   "source": []
  },
  {
   "cell_type": "code",
   "execution_count": 76,
   "id": "74932828",
   "metadata": {},
   "outputs": [
    {
     "name": "stdout",
     "output_type": "stream",
     "text": [
      "training accuracy is 0.8890121362390708\n",
      "validation accuracy is 0.7974947807933194\n",
      "training f1 score is 0.755287009063444\n",
      "validation f1 score is 0.5488372093023255\n",
      "training roc auc score is 0.8197049578433738\n",
      "validation roc auc score is 0.7005856594795095\n"
     ]
    }
   ],
   "source": [
    "rfc=RandomForestClassifier(max_depth=17, random_state=0)\n",
    "rfc.fit(X_train, y_train)\n",
    "y_pred_train=rfc.predict(X_train)\n",
    "y_pred_test=rfc.predict(X_test)\n",
    "\n",
    "print(f\"training accuracy is {rfc.score(X_train,y_train)}\")  #training accuracy\n",
    "#trn.append(rfc.score(X_train,y_train))\n",
    "print(f\"validation accuracy is {rfc.score(X_validation,y_validation)}\")\n",
    "#tst.append(rfc.score(X_validation,y_validation))\n",
    "print(f\"training f1 score is {f1_score(y_train,y_pred_train)}\")\n",
    "#f1_t.append(f1_score(y_train,y_pred_train))\n",
    "print(f\"validation f1 score is {f1_score(y_validation,y_pred_test)}\")\n",
    "#f1_v.append(f1_score(y_validation,y_pred_test))\n",
    "print(f\"training roc auc score is {roc_auc_score(y_train,y_pred_train)}\")\n",
    "#auc_t.append(roc_auc_score(y_train,y_pred_train))\n",
    "print(f\"validation roc auc score is {roc_auc_score(y_validation,y_pred_test)}\")\n",
    "#auc_v.append(roc_auc_score(y_validation,y_pred_test))"
   ]
  },
  {
   "cell_type": "code",
   "execution_count": 71,
   "id": "61d761b9",
   "metadata": {},
   "outputs": [
    {
     "name": "stdout",
     "output_type": "stream",
     "text": [
      "training accuracy is 0.8890121362390708\n",
      "validation accuracy is 0.7974947807933194\n",
      "training f1 score is 0.755287009063444\n",
      "validation f1 score is 0.5488372093023255\n",
      "training roc auc score is 0.8197049578433738\n",
      "validation roc auc score is 0.7005856594795095\n"
     ]
    }
   ],
   "source": [
    "print(f\"training accuracy is {rfc.score(X_train,y_train)}\")  #training accuracy\n",
    "print(f\"validation accuracy is {rfc.score(X_validation,y_validation)}\")\n",
    "print(f\"training f1 score is {f1_score(y_train,y_pred_train)}\")\n",
    "print(f\"validation f1 score is {f1_score(y_validation,y_pred_test)}\")\n",
    "print(f\"training roc auc score is {roc_auc_score(y_train,y_pred_train)}\")\n",
    "print(f\"validation roc auc score is {roc_auc_score(y_validation,y_pred_test)}\")"
   ]
  },
  {
   "cell_type": "code",
   "execution_count": 72,
   "id": "7fda5d40",
   "metadata": {},
   "outputs": [],
   "source": [
    "# Adaboost"
   ]
  },
  {
   "cell_type": "code",
   "execution_count": 73,
   "id": "4ebd51b2",
   "metadata": {},
   "outputs": [
    {
     "ename": "KeyboardInterrupt",
     "evalue": "",
     "output_type": "error",
     "traceback": [
      "\u001b[1;31m---------------------------------------------------------------------------\u001b[0m",
      "\u001b[1;31mKeyboardInterrupt\u001b[0m                         Traceback (most recent call last)",
      "\u001b[1;32m~\\AppData\\Local\\Temp/ipykernel_6136/3972128509.py\u001b[0m in \u001b[0;36m<module>\u001b[1;34m\u001b[0m\n\u001b[0;32m      1\u001b[0m \u001b[0mabc\u001b[0m \u001b[1;33m=\u001b[0m \u001b[0mAdaBoostClassifier\u001b[0m\u001b[1;33m(\u001b[0m\u001b[0mn_estimators\u001b[0m\u001b[1;33m=\u001b[0m\u001b[1;36m10000\u001b[0m\u001b[1;33m,\u001b[0m \u001b[0mrandom_state\u001b[0m\u001b[1;33m=\u001b[0m\u001b[1;36m0\u001b[0m\u001b[1;33m)\u001b[0m\u001b[1;33m\u001b[0m\u001b[1;33m\u001b[0m\u001b[0m\n\u001b[1;32m----> 2\u001b[1;33m \u001b[0mabc\u001b[0m\u001b[1;33m.\u001b[0m\u001b[0mfit\u001b[0m\u001b[1;33m(\u001b[0m\u001b[0mX_train\u001b[0m\u001b[1;33m,\u001b[0m \u001b[0my_train\u001b[0m\u001b[1;33m)\u001b[0m\u001b[1;33m\u001b[0m\u001b[1;33m\u001b[0m\u001b[0m\n\u001b[0m\u001b[0;32m      3\u001b[0m \u001b[0my_pred_train\u001b[0m\u001b[1;33m=\u001b[0m\u001b[0mabc\u001b[0m\u001b[1;33m.\u001b[0m\u001b[0mpredict\u001b[0m\u001b[1;33m(\u001b[0m\u001b[0mX_train\u001b[0m\u001b[1;33m)\u001b[0m\u001b[1;33m\u001b[0m\u001b[1;33m\u001b[0m\u001b[0m\n\u001b[0;32m      4\u001b[0m \u001b[0my_pred_test\u001b[0m\u001b[1;33m=\u001b[0m\u001b[0mabc\u001b[0m\u001b[1;33m.\u001b[0m\u001b[0mpredict\u001b[0m\u001b[1;33m(\u001b[0m\u001b[0mX_test\u001b[0m\u001b[1;33m)\u001b[0m\u001b[1;33m\u001b[0m\u001b[1;33m\u001b[0m\u001b[0m\n",
      "\u001b[1;32m~\\anaconda3\\lib\\site-packages\\sklearn\\ensemble\\_weight_boosting.py\u001b[0m in \u001b[0;36mfit\u001b[1;34m(self, X, y, sample_weight)\u001b[0m\n\u001b[0;32m    441\u001b[0m \u001b[1;33m\u001b[0m\u001b[0m\n\u001b[0;32m    442\u001b[0m         \u001b[1;31m# Fit\u001b[0m\u001b[1;33m\u001b[0m\u001b[1;33m\u001b[0m\u001b[1;33m\u001b[0m\u001b[0m\n\u001b[1;32m--> 443\u001b[1;33m         \u001b[1;32mreturn\u001b[0m \u001b[0msuper\u001b[0m\u001b[1;33m(\u001b[0m\u001b[1;33m)\u001b[0m\u001b[1;33m.\u001b[0m\u001b[0mfit\u001b[0m\u001b[1;33m(\u001b[0m\u001b[0mX\u001b[0m\u001b[1;33m,\u001b[0m \u001b[0my\u001b[0m\u001b[1;33m,\u001b[0m \u001b[0msample_weight\u001b[0m\u001b[1;33m)\u001b[0m\u001b[1;33m\u001b[0m\u001b[1;33m\u001b[0m\u001b[0m\n\u001b[0m\u001b[0;32m    444\u001b[0m \u001b[1;33m\u001b[0m\u001b[0m\n\u001b[0;32m    445\u001b[0m     \u001b[1;32mdef\u001b[0m \u001b[0m_validate_estimator\u001b[0m\u001b[1;33m(\u001b[0m\u001b[0mself\u001b[0m\u001b[1;33m)\u001b[0m\u001b[1;33m:\u001b[0m\u001b[1;33m\u001b[0m\u001b[1;33m\u001b[0m\u001b[0m\n",
      "\u001b[1;32m~\\anaconda3\\lib\\site-packages\\sklearn\\ensemble\\_weight_boosting.py\u001b[0m in \u001b[0;36mfit\u001b[1;34m(self, X, y, sample_weight)\u001b[0m\n\u001b[0;32m    128\u001b[0m         \u001b[1;32mfor\u001b[0m \u001b[0miboost\u001b[0m \u001b[1;32min\u001b[0m \u001b[0mrange\u001b[0m\u001b[1;33m(\u001b[0m\u001b[0mself\u001b[0m\u001b[1;33m.\u001b[0m\u001b[0mn_estimators\u001b[0m\u001b[1;33m)\u001b[0m\u001b[1;33m:\u001b[0m\u001b[1;33m\u001b[0m\u001b[1;33m\u001b[0m\u001b[0m\n\u001b[0;32m    129\u001b[0m             \u001b[1;31m# Boosting step\u001b[0m\u001b[1;33m\u001b[0m\u001b[1;33m\u001b[0m\u001b[1;33m\u001b[0m\u001b[0m\n\u001b[1;32m--> 130\u001b[1;33m             sample_weight, estimator_weight, estimator_error = self._boost(\n\u001b[0m\u001b[0;32m    131\u001b[0m                 \u001b[0miboost\u001b[0m\u001b[1;33m,\u001b[0m\u001b[1;33m\u001b[0m\u001b[1;33m\u001b[0m\u001b[0m\n\u001b[0;32m    132\u001b[0m                 \u001b[0mX\u001b[0m\u001b[1;33m,\u001b[0m \u001b[0my\u001b[0m\u001b[1;33m,\u001b[0m\u001b[1;33m\u001b[0m\u001b[1;33m\u001b[0m\u001b[0m\n",
      "\u001b[1;32m~\\anaconda3\\lib\\site-packages\\sklearn\\ensemble\\_weight_boosting.py\u001b[0m in \u001b[0;36m_boost\u001b[1;34m(self, iboost, X, y, sample_weight, random_state)\u001b[0m\n\u001b[0;32m    501\u001b[0m         \"\"\"\n\u001b[0;32m    502\u001b[0m         \u001b[1;32mif\u001b[0m \u001b[0mself\u001b[0m\u001b[1;33m.\u001b[0m\u001b[0malgorithm\u001b[0m \u001b[1;33m==\u001b[0m \u001b[1;34m'SAMME.R'\u001b[0m\u001b[1;33m:\u001b[0m\u001b[1;33m\u001b[0m\u001b[1;33m\u001b[0m\u001b[0m\n\u001b[1;32m--> 503\u001b[1;33m             \u001b[1;32mreturn\u001b[0m \u001b[0mself\u001b[0m\u001b[1;33m.\u001b[0m\u001b[0m_boost_real\u001b[0m\u001b[1;33m(\u001b[0m\u001b[0miboost\u001b[0m\u001b[1;33m,\u001b[0m \u001b[0mX\u001b[0m\u001b[1;33m,\u001b[0m \u001b[0my\u001b[0m\u001b[1;33m,\u001b[0m \u001b[0msample_weight\u001b[0m\u001b[1;33m,\u001b[0m \u001b[0mrandom_state\u001b[0m\u001b[1;33m)\u001b[0m\u001b[1;33m\u001b[0m\u001b[1;33m\u001b[0m\u001b[0m\n\u001b[0m\u001b[0;32m    504\u001b[0m \u001b[1;33m\u001b[0m\u001b[0m\n\u001b[0;32m    505\u001b[0m         \u001b[1;32melse\u001b[0m\u001b[1;33m:\u001b[0m  \u001b[1;31m# elif self.algorithm == \"SAMME\":\u001b[0m\u001b[1;33m\u001b[0m\u001b[1;33m\u001b[0m\u001b[0m\n",
      "\u001b[1;32m~\\anaconda3\\lib\\site-packages\\sklearn\\ensemble\\_weight_boosting.py\u001b[0m in \u001b[0;36m_boost_real\u001b[1;34m(self, iboost, X, y, sample_weight, random_state)\u001b[0m\n\u001b[0;32m    552\u001b[0m \u001b[1;33m\u001b[0m\u001b[0m\n\u001b[0;32m    553\u001b[0m         \u001b[1;31m# Boost weight using multi-class AdaBoost SAMME.R alg\u001b[0m\u001b[1;33m\u001b[0m\u001b[1;33m\u001b[0m\u001b[1;33m\u001b[0m\u001b[0m\n\u001b[1;32m--> 554\u001b[1;33m         estimator_weight = (-1. * self.learning_rate\n\u001b[0m\u001b[0;32m    555\u001b[0m                             \u001b[1;33m*\u001b[0m \u001b[1;33m(\u001b[0m\u001b[1;33m(\u001b[0m\u001b[0mn_classes\u001b[0m \u001b[1;33m-\u001b[0m \u001b[1;36m1.\u001b[0m\u001b[1;33m)\u001b[0m \u001b[1;33m/\u001b[0m \u001b[0mn_classes\u001b[0m\u001b[1;33m)\u001b[0m\u001b[1;33m\u001b[0m\u001b[1;33m\u001b[0m\u001b[0m\n\u001b[0;32m    556\u001b[0m                             * xlogy(y_coding, y_predict_proba).sum(axis=1))\n",
      "\u001b[1;31mKeyboardInterrupt\u001b[0m: "
     ]
    }
   ],
   "source": [
    "abc = AdaBoostClassifier(n_estimators=10000, random_state=0)\n",
    "abc.fit(X_train, y_train)\n",
    "y_pred_train=abc.predict(X_train)\n",
    "y_pred_test=abc.predict(X_test)"
   ]
  },
  {
   "cell_type": "code",
   "execution_count": null,
   "id": "da671d8b",
   "metadata": {},
   "outputs": [],
   "source": [
    "print(f\"training accuracy is {abc.score(X_train,y_train)}\")  #training accuracy\n",
    "print(f\"validation accuracy is {abc.score(X_validation,y_validation)}\")\n",
    "print(f\"training f1 score is {f1_score(y_train,y_pred_train)}\")\n",
    "print(f\"validation f1 score is {f1_score(y_test,y_pred_test)}\")\n",
    "print(f\"training roc auc score is {roc_auc_score(y_train,y_pred_train)}\")\n",
    "print(f\"validation roc auc score is {roc_auc_score(y_test,y_pred_test)}\")"
   ]
  },
  {
   "cell_type": "code",
   "execution_count": null,
   "id": "23670a6b",
   "metadata": {},
   "outputs": [],
   "source": [
    "for i in range(1,1000,100):\n",
    "    abc = AdaBoostClassifier(n_estimators=i, random_state=0)\n",
    "    abc.fit(X_train, y_train)\n",
    "    y_pred_train=abc.predict(X_train)\n",
    "    y_pred_test=abc.predict(X_test)\n",
    "    print(\"no of models is \",i)\n",
    "    print(f\"training accuracy is {abc.score(X_train,y_train)}\")  #training accuracy\n",
    "    print(f\"validation accuracy is {abc.score(X_validation,y_validation)}\")\n",
    "    print(f\"training f1 score is {f1_score(y_train,y_pred_train)}\")\n",
    "    print(f\"validation f1 score is {f1_score(y_test,y_pred_test)}\")\n",
    "    print(f\"training roc auc score is {roc_auc_score(y_train,y_pred_train)}\")\n",
    "    print(f\"validation roc auc score is {roc_auc_score(y_test,y_pred_test)}\")"
   ]
  },
  {
   "cell_type": "code",
   "execution_count": null,
   "id": "e9bbd1b5",
   "metadata": {},
   "outputs": [],
   "source": [
    "#DL"
   ]
  },
  {
   "cell_type": "code",
   "execution_count": null,
   "id": "52a463f8",
   "metadata": {},
   "outputs": [],
   "source": [
    "model = Sequential()\n",
    "norm = tf.keras.layers.LayerNormalization(\n",
    "    epsilon=0.001,\n",
    "    center=True,\n",
    "    scale=True\n",
    ")\n",
    "model.add(norm)\n",
    "model.add(ThresholdedReLU(theta=10)) # Theta is a threshold which determines the output result of a particular neuron.\n",
    "model.add(Dense(200, activation='relu'))\n",
    "model.add(Dense(100, activation='softmax'))\n",
    "model.add(Dense(1, activation='sigmoid'))"
   ]
  },
  {
   "cell_type": "code",
   "execution_count": null,
   "id": "09a3f435",
   "metadata": {},
   "outputs": [],
   "source": [
    "model.compile(loss='binary_crossentropy', optimizer='adam', metrics=['accuracy'])"
   ]
  },
  {
   "cell_type": "code",
   "execution_count": null,
   "id": "8fe6e459",
   "metadata": {
    "scrolled": true
   },
   "outputs": [],
   "source": [
    "model.fit(X_train, y_train,\n",
    "          epochs=20)"
   ]
  },
  {
   "cell_type": "code",
   "execution_count": null,
   "id": "c8671e90",
   "metadata": {},
   "outputs": [],
   "source": [
    "model.evaluate(X_test,y_test)"
   ]
  },
  {
   "cell_type": "code",
   "execution_count": null,
   "id": "0bb1d89a",
   "metadata": {},
   "outputs": [],
   "source": [
    "model.metrics_names"
   ]
  },
  {
   "cell_type": "code",
   "execution_count": null,
   "id": "ed5615f8",
   "metadata": {},
   "outputs": [],
   "source": [
    "data_3['target'].value_counts()"
   ]
  },
  {
   "cell_type": "code",
   "execution_count": 74,
   "id": "dcb073e6",
   "metadata": {},
   "outputs": [
    {
     "data": {
      "text/html": [
       "<div>\n",
       "<style scoped>\n",
       "    .dataframe tbody tr th:only-of-type {\n",
       "        vertical-align: middle;\n",
       "    }\n",
       "\n",
       "    .dataframe tbody tr th {\n",
       "        vertical-align: top;\n",
       "    }\n",
       "\n",
       "    .dataframe thead th {\n",
       "        text-align: right;\n",
       "    }\n",
       "</style>\n",
       "<table border=\"1\" class=\"dataframe\">\n",
       "  <thead>\n",
       "    <tr style=\"text-align: right;\">\n",
       "      <th></th>\n",
       "      <th>relevent_experience</th>\n",
       "      <th>education_level</th>\n",
       "      <th>experience</th>\n",
       "      <th>company_size</th>\n",
       "      <th>last_new_job</th>\n",
       "      <th>gender_Male</th>\n",
       "      <th>gender_Other</th>\n",
       "      <th>gender_Unknown</th>\n",
       "      <th>city_city_10</th>\n",
       "      <th>city_city_100</th>\n",
       "      <th>...</th>\n",
       "      <th>company_type_Funded Startup</th>\n",
       "      <th>company_type_NGO</th>\n",
       "      <th>company_type_Other</th>\n",
       "      <th>company_type_Public Sector</th>\n",
       "      <th>company_type_Pvt Ltd</th>\n",
       "      <th>company_type_Unknown</th>\n",
       "      <th>enrolled_university_Part time course</th>\n",
       "      <th>enrolled_university_no_enrollment</th>\n",
       "      <th>city_development_index</th>\n",
       "      <th>training_hours</th>\n",
       "    </tr>\n",
       "  </thead>\n",
       "  <tbody>\n",
       "    <tr>\n",
       "      <th>0</th>\n",
       "      <td>1.0</td>\n",
       "      <td>2.0</td>\n",
       "      <td>9.0</td>\n",
       "      <td>1.0</td>\n",
       "      <td>1.0</td>\n",
       "      <td>1.0</td>\n",
       "      <td>0.0</td>\n",
       "      <td>0.0</td>\n",
       "      <td>0.0</td>\n",
       "      <td>0.0</td>\n",
       "      <td>...</td>\n",
       "      <td>0.0</td>\n",
       "      <td>0.0</td>\n",
       "      <td>0.0</td>\n",
       "      <td>0.0</td>\n",
       "      <td>0.0</td>\n",
       "      <td>1.0</td>\n",
       "      <td>0.0</td>\n",
       "      <td>1.0</td>\n",
       "      <td>0.827</td>\n",
       "      <td>21.0</td>\n",
       "    </tr>\n",
       "    <tr>\n",
       "      <th>1</th>\n",
       "      <td>1.0</td>\n",
       "      <td>2.0</td>\n",
       "      <td>5.0</td>\n",
       "      <td>0.0</td>\n",
       "      <td>1.0</td>\n",
       "      <td>1.0</td>\n",
       "      <td>0.0</td>\n",
       "      <td>0.0</td>\n",
       "      <td>0.0</td>\n",
       "      <td>0.0</td>\n",
       "      <td>...</td>\n",
       "      <td>0.0</td>\n",
       "      <td>0.0</td>\n",
       "      <td>0.0</td>\n",
       "      <td>0.0</td>\n",
       "      <td>1.0</td>\n",
       "      <td>0.0</td>\n",
       "      <td>0.0</td>\n",
       "      <td>1.0</td>\n",
       "      <td>0.920</td>\n",
       "      <td>98.0</td>\n",
       "    </tr>\n",
       "    <tr>\n",
       "      <th>2</th>\n",
       "      <td>0.0</td>\n",
       "      <td>1.0</td>\n",
       "      <td>0.0</td>\n",
       "      <td>0.0</td>\n",
       "      <td>0.0</td>\n",
       "      <td>0.0</td>\n",
       "      <td>0.0</td>\n",
       "      <td>1.0</td>\n",
       "      <td>0.0</td>\n",
       "      <td>0.0</td>\n",
       "      <td>...</td>\n",
       "      <td>0.0</td>\n",
       "      <td>0.0</td>\n",
       "      <td>0.0</td>\n",
       "      <td>0.0</td>\n",
       "      <td>0.0</td>\n",
       "      <td>1.0</td>\n",
       "      <td>0.0</td>\n",
       "      <td>0.0</td>\n",
       "      <td>0.624</td>\n",
       "      <td>15.0</td>\n",
       "    </tr>\n",
       "    <tr>\n",
       "      <th>3</th>\n",
       "      <td>1.0</td>\n",
       "      <td>3.0</td>\n",
       "      <td>11.0</td>\n",
       "      <td>2.0</td>\n",
       "      <td>1.0</td>\n",
       "      <td>0.0</td>\n",
       "      <td>0.0</td>\n",
       "      <td>1.0</td>\n",
       "      <td>0.0</td>\n",
       "      <td>0.0</td>\n",
       "      <td>...</td>\n",
       "      <td>0.0</td>\n",
       "      <td>0.0</td>\n",
       "      <td>0.0</td>\n",
       "      <td>0.0</td>\n",
       "      <td>1.0</td>\n",
       "      <td>0.0</td>\n",
       "      <td>0.0</td>\n",
       "      <td>1.0</td>\n",
       "      <td>0.827</td>\n",
       "      <td>39.0</td>\n",
       "    </tr>\n",
       "    <tr>\n",
       "      <th>4</th>\n",
       "      <td>1.0</td>\n",
       "      <td>2.0</td>\n",
       "      <td>21.0</td>\n",
       "      <td>8.0</td>\n",
       "      <td>5.0</td>\n",
       "      <td>1.0</td>\n",
       "      <td>0.0</td>\n",
       "      <td>0.0</td>\n",
       "      <td>0.0</td>\n",
       "      <td>0.0</td>\n",
       "      <td>...</td>\n",
       "      <td>1.0</td>\n",
       "      <td>0.0</td>\n",
       "      <td>0.0</td>\n",
       "      <td>0.0</td>\n",
       "      <td>0.0</td>\n",
       "      <td>0.0</td>\n",
       "      <td>0.0</td>\n",
       "      <td>1.0</td>\n",
       "      <td>0.920</td>\n",
       "      <td>72.0</td>\n",
       "    </tr>\n",
       "    <tr>\n",
       "      <th>...</th>\n",
       "      <td>...</td>\n",
       "      <td>...</td>\n",
       "      <td>...</td>\n",
       "      <td>...</td>\n",
       "      <td>...</td>\n",
       "      <td>...</td>\n",
       "      <td>...</td>\n",
       "      <td>...</td>\n",
       "      <td>...</td>\n",
       "      <td>...</td>\n",
       "      <td>...</td>\n",
       "      <td>...</td>\n",
       "      <td>...</td>\n",
       "      <td>...</td>\n",
       "      <td>...</td>\n",
       "      <td>...</td>\n",
       "      <td>...</td>\n",
       "      <td>...</td>\n",
       "      <td>...</td>\n",
       "      <td>...</td>\n",
       "      <td>...</td>\n",
       "    </tr>\n",
       "    <tr>\n",
       "      <th>2124</th>\n",
       "      <td>0.0</td>\n",
       "      <td>2.0</td>\n",
       "      <td>16.0</td>\n",
       "      <td>0.0</td>\n",
       "      <td>4.0</td>\n",
       "      <td>1.0</td>\n",
       "      <td>0.0</td>\n",
       "      <td>0.0</td>\n",
       "      <td>0.0</td>\n",
       "      <td>0.0</td>\n",
       "      <td>...</td>\n",
       "      <td>0.0</td>\n",
       "      <td>0.0</td>\n",
       "      <td>0.0</td>\n",
       "      <td>0.0</td>\n",
       "      <td>0.0</td>\n",
       "      <td>0.0</td>\n",
       "      <td>0.0</td>\n",
       "      <td>1.0</td>\n",
       "      <td>0.920</td>\n",
       "      <td>15.0</td>\n",
       "    </tr>\n",
       "    <tr>\n",
       "      <th>2125</th>\n",
       "      <td>1.0</td>\n",
       "      <td>3.0</td>\n",
       "      <td>18.0</td>\n",
       "      <td>0.0</td>\n",
       "      <td>2.0</td>\n",
       "      <td>0.0</td>\n",
       "      <td>0.0</td>\n",
       "      <td>1.0</td>\n",
       "      <td>0.0</td>\n",
       "      <td>0.0</td>\n",
       "      <td>...</td>\n",
       "      <td>0.0</td>\n",
       "      <td>0.0</td>\n",
       "      <td>0.0</td>\n",
       "      <td>0.0</td>\n",
       "      <td>1.0</td>\n",
       "      <td>0.0</td>\n",
       "      <td>0.0</td>\n",
       "      <td>1.0</td>\n",
       "      <td>0.897</td>\n",
       "      <td>30.0</td>\n",
       "    </tr>\n",
       "    <tr>\n",
       "      <th>2126</th>\n",
       "      <td>0.0</td>\n",
       "      <td>0.0</td>\n",
       "      <td>3.0</td>\n",
       "      <td>0.0</td>\n",
       "      <td>0.0</td>\n",
       "      <td>0.0</td>\n",
       "      <td>0.0</td>\n",
       "      <td>1.0</td>\n",
       "      <td>0.0</td>\n",
       "      <td>0.0</td>\n",
       "      <td>...</td>\n",
       "      <td>0.0</td>\n",
       "      <td>0.0</td>\n",
       "      <td>0.0</td>\n",
       "      <td>0.0</td>\n",
       "      <td>1.0</td>\n",
       "      <td>0.0</td>\n",
       "      <td>0.0</td>\n",
       "      <td>1.0</td>\n",
       "      <td>0.887</td>\n",
       "      <td>18.0</td>\n",
       "    </tr>\n",
       "    <tr>\n",
       "      <th>2127</th>\n",
       "      <td>1.0</td>\n",
       "      <td>1.0</td>\n",
       "      <td>7.0</td>\n",
       "      <td>4.0</td>\n",
       "      <td>1.0</td>\n",
       "      <td>0.0</td>\n",
       "      <td>1.0</td>\n",
       "      <td>0.0</td>\n",
       "      <td>0.0</td>\n",
       "      <td>0.0</td>\n",
       "      <td>...</td>\n",
       "      <td>0.0</td>\n",
       "      <td>0.0</td>\n",
       "      <td>0.0</td>\n",
       "      <td>0.0</td>\n",
       "      <td>1.0</td>\n",
       "      <td>0.0</td>\n",
       "      <td>0.0</td>\n",
       "      <td>1.0</td>\n",
       "      <td>0.804</td>\n",
       "      <td>84.0</td>\n",
       "    </tr>\n",
       "    <tr>\n",
       "      <th>2128</th>\n",
       "      <td>1.0</td>\n",
       "      <td>3.0</td>\n",
       "      <td>15.0</td>\n",
       "      <td>8.0</td>\n",
       "      <td>2.0</td>\n",
       "      <td>1.0</td>\n",
       "      <td>0.0</td>\n",
       "      <td>0.0</td>\n",
       "      <td>0.0</td>\n",
       "      <td>1.0</td>\n",
       "      <td>...</td>\n",
       "      <td>0.0</td>\n",
       "      <td>0.0</td>\n",
       "      <td>0.0</td>\n",
       "      <td>0.0</td>\n",
       "      <td>1.0</td>\n",
       "      <td>0.0</td>\n",
       "      <td>0.0</td>\n",
       "      <td>1.0</td>\n",
       "      <td>0.804</td>\n",
       "      <td>11.0</td>\n",
       "    </tr>\n",
       "  </tbody>\n",
       "</table>\n",
       "<p>2129 rows × 146 columns</p>\n",
       "</div>"
      ],
      "text/plain": [
       "      relevent_experience  education_level  experience  company_size  \\\n",
       "0                     1.0              2.0         9.0           1.0   \n",
       "1                     1.0              2.0         5.0           0.0   \n",
       "2                     0.0              1.0         0.0           0.0   \n",
       "3                     1.0              3.0        11.0           2.0   \n",
       "4                     1.0              2.0        21.0           8.0   \n",
       "...                   ...              ...         ...           ...   \n",
       "2124                  0.0              2.0        16.0           0.0   \n",
       "2125                  1.0              3.0        18.0           0.0   \n",
       "2126                  0.0              0.0         3.0           0.0   \n",
       "2127                  1.0              1.0         7.0           4.0   \n",
       "2128                  1.0              3.0        15.0           8.0   \n",
       "\n",
       "      last_new_job  gender_Male  gender_Other  gender_Unknown  city_city_10  \\\n",
       "0              1.0          1.0           0.0             0.0           0.0   \n",
       "1              1.0          1.0           0.0             0.0           0.0   \n",
       "2              0.0          0.0           0.0             1.0           0.0   \n",
       "3              1.0          0.0           0.0             1.0           0.0   \n",
       "4              5.0          1.0           0.0             0.0           0.0   \n",
       "...            ...          ...           ...             ...           ...   \n",
       "2124           4.0          1.0           0.0             0.0           0.0   \n",
       "2125           2.0          0.0           0.0             1.0           0.0   \n",
       "2126           0.0          0.0           0.0             1.0           0.0   \n",
       "2127           1.0          0.0           1.0             0.0           0.0   \n",
       "2128           2.0          1.0           0.0             0.0           0.0   \n",
       "\n",
       "      city_city_100  ...  company_type_Funded Startup  company_type_NGO  \\\n",
       "0               0.0  ...                          0.0               0.0   \n",
       "1               0.0  ...                          0.0               0.0   \n",
       "2               0.0  ...                          0.0               0.0   \n",
       "3               0.0  ...                          0.0               0.0   \n",
       "4               0.0  ...                          1.0               0.0   \n",
       "...             ...  ...                          ...               ...   \n",
       "2124            0.0  ...                          0.0               0.0   \n",
       "2125            0.0  ...                          0.0               0.0   \n",
       "2126            0.0  ...                          0.0               0.0   \n",
       "2127            0.0  ...                          0.0               0.0   \n",
       "2128            1.0  ...                          0.0               0.0   \n",
       "\n",
       "      company_type_Other  company_type_Public Sector  company_type_Pvt Ltd  \\\n",
       "0                    0.0                         0.0                   0.0   \n",
       "1                    0.0                         0.0                   1.0   \n",
       "2                    0.0                         0.0                   0.0   \n",
       "3                    0.0                         0.0                   1.0   \n",
       "4                    0.0                         0.0                   0.0   \n",
       "...                  ...                         ...                   ...   \n",
       "2124                 0.0                         0.0                   0.0   \n",
       "2125                 0.0                         0.0                   1.0   \n",
       "2126                 0.0                         0.0                   1.0   \n",
       "2127                 0.0                         0.0                   1.0   \n",
       "2128                 0.0                         0.0                   1.0   \n",
       "\n",
       "      company_type_Unknown  enrolled_university_Part time course  \\\n",
       "0                      1.0                                   0.0   \n",
       "1                      0.0                                   0.0   \n",
       "2                      1.0                                   0.0   \n",
       "3                      0.0                                   0.0   \n",
       "4                      0.0                                   0.0   \n",
       "...                    ...                                   ...   \n",
       "2124                   0.0                                   0.0   \n",
       "2125                   0.0                                   0.0   \n",
       "2126                   0.0                                   0.0   \n",
       "2127                   0.0                                   0.0   \n",
       "2128                   0.0                                   0.0   \n",
       "\n",
       "      enrolled_university_no_enrollment  city_development_index  \\\n",
       "0                                   1.0                   0.827   \n",
       "1                                   1.0                   0.920   \n",
       "2                                   0.0                   0.624   \n",
       "3                                   1.0                   0.827   \n",
       "4                                   1.0                   0.920   \n",
       "...                                 ...                     ...   \n",
       "2124                                1.0                   0.920   \n",
       "2125                                1.0                   0.897   \n",
       "2126                                1.0                   0.887   \n",
       "2127                                1.0                   0.804   \n",
       "2128                                1.0                   0.804   \n",
       "\n",
       "      training_hours  \n",
       "0               21.0  \n",
       "1               98.0  \n",
       "2               15.0  \n",
       "3               39.0  \n",
       "4               72.0  \n",
       "...              ...  \n",
       "2124            15.0  \n",
       "2125            30.0  \n",
       "2126            18.0  \n",
       "2127            84.0  \n",
       "2128            11.0  \n",
       "\n",
       "[2129 rows x 146 columns]"
      ]
     },
     "execution_count": 74,
     "metadata": {},
     "output_type": "execute_result"
    }
   ],
   "source": [
    "try_test=pd.read_csv('transformed_test_data.csv')\n",
    "try_test=try_test.dropna()\n",
    "try_test=try_test.drop(columns='Unnamed: 0')\n",
    "try_test"
   ]
  },
  {
   "cell_type": "code",
   "execution_count": 75,
   "id": "8b098ed9",
   "metadata": {},
   "outputs": [
    {
     "data": {
      "text/plain": [
       "array([1., 0., 1., ..., 0., 0., 0.])"
      ]
     },
     "execution_count": 75,
     "metadata": {},
     "output_type": "execute_result"
    }
   ],
   "source": [
    "answers = np.load('jobchange_test_target_values.npy')\n",
    "answers"
   ]
  },
  {
   "cell_type": "code",
   "execution_count": 78,
   "id": "40e6a615",
   "metadata": {},
   "outputs": [
    {
     "name": "stdout",
     "output_type": "stream",
     "text": [
      "test accuracy final accuracy is 0.7440112728980742\n",
      "test accuracy final f1 score is 0.2377622377622378\n"
     ]
    }
   ],
   "source": [
    "y_pred_test=rfc.predict(try_test)\n",
    "print(f\"test accuracy final accuracy is {rfc.score(try_test,answers)}\")  #training accuracy\n",
    "\n",
    "print(f\"test accuracy final f1 score is {f1_score(answers,y_pred_test)}\")\n",
    "\n"
   ]
  },
  {
   "cell_type": "code",
   "execution_count": null,
   "id": "56671511",
   "metadata": {},
   "outputs": [],
   "source": []
  },
  {
   "cell_type": "code",
   "execution_count": null,
   "id": "3629edef",
   "metadata": {},
   "outputs": [],
   "source": []
  },
  {
   "cell_type": "code",
   "execution_count": null,
   "id": "d6ebdab0",
   "metadata": {},
   "outputs": [],
   "source": []
  },
  {
   "cell_type": "code",
   "execution_count": null,
   "id": "51518d72",
   "metadata": {},
   "outputs": [],
   "source": []
  },
  {
   "cell_type": "code",
   "execution_count": null,
   "id": "2ce53284",
   "metadata": {},
   "outputs": [],
   "source": []
  },
  {
   "cell_type": "code",
   "execution_count": null,
   "id": "3e057d0a",
   "metadata": {},
   "outputs": [],
   "source": []
  },
  {
   "cell_type": "code",
   "execution_count": null,
   "id": "dae639dd",
   "metadata": {},
   "outputs": [],
   "source": []
  },
  {
   "cell_type": "code",
   "execution_count": null,
   "id": "9f2b7ba6",
   "metadata": {},
   "outputs": [],
   "source": []
  },
  {
   "cell_type": "code",
   "execution_count": null,
   "id": "615be7a4",
   "metadata": {},
   "outputs": [],
   "source": []
  },
  {
   "cell_type": "code",
   "execution_count": null,
   "id": "478d125a",
   "metadata": {},
   "outputs": [],
   "source": []
  },
  {
   "cell_type": "code",
   "execution_count": null,
   "id": "99be0896",
   "metadata": {},
   "outputs": [],
   "source": [
    "data_target_1=data_3[data_3['target']==1]"
   ]
  },
  {
   "cell_type": "markdown",
   "id": "ce54a376",
   "metadata": {},
   "source": [
    "# STARTING THE SUPER SAMPLING"
   ]
  },
  {
   "cell_type": "code",
   "execution_count": null,
   "id": "e98262b5",
   "metadata": {},
   "outputs": [],
   "source": [
    "data_supersampled=data_3.copy()"
   ]
  },
  {
   "cell_type": "code",
   "execution_count": null,
   "id": "f51689ce",
   "metadata": {},
   "outputs": [],
   "source": [
    "data_supersampled"
   ]
  },
  {
   "cell_type": "code",
   "execution_count": null,
   "id": "0ad21185",
   "metadata": {},
   "outputs": [],
   "source": [
    "for row,column in data_target_1.iterrows():\n",
    "    #print(column)\n",
    "    data_supersampled=data_supersampled.append(column)"
   ]
  },
  {
   "cell_type": "code",
   "execution_count": null,
   "id": "35b12243",
   "metadata": {},
   "outputs": [],
   "source": [
    "data_supersampled=data_supersampled.reset_index()"
   ]
  },
  {
   "cell_type": "code",
   "execution_count": null,
   "id": "510be1d1",
   "metadata": {},
   "outputs": [],
   "source": [
    "data_supersampled"
   ]
  },
  {
   "cell_type": "code",
   "execution_count": null,
   "id": "0c228d89",
   "metadata": {},
   "outputs": [],
   "source": [
    "data_supersampled['target'].value_counts()"
   ]
  },
  {
   "cell_type": "code",
   "execution_count": null,
   "id": "00779c0c",
   "metadata": {},
   "outputs": [],
   "source": [
    "data_supersampled=data_supersampled.drop(columns='index')"
   ]
  },
  {
   "cell_type": "code",
   "execution_count": null,
   "id": "5742dc31",
   "metadata": {},
   "outputs": [],
   "source": [
    "data_supersampled"
   ]
  },
  {
   "cell_type": "code",
   "execution_count": null,
   "id": "c92a3c87",
   "metadata": {},
   "outputs": [],
   "source": [
    "# train-validation-split\n",
    "X_u=data_supersampled.loc[:,data_supersampled.columns!='target']\n",
    "y_u=data_supersampled['target']\n",
    "\n",
    "X_train_u, X_validation_u, y_train_u, y_validation_u = train_test_split(X_u, y_u, test_size=0.20, random_state=60)"
   ]
  },
  {
   "cell_type": "code",
   "execution_count": null,
   "id": "d4515c09",
   "metadata": {},
   "outputs": [],
   "source": [
    "LR_u=LogisticRegression()"
   ]
  },
  {
   "cell_type": "code",
   "execution_count": null,
   "id": "41b586d9",
   "metadata": {},
   "outputs": [],
   "source": [
    "LR_u.fit(X_train_u,y_train_u)\n",
    "pred_LR_valid_u=LR.predict(X_validation_u)\n",
    "pred_LR_train_u=LR.predict(X_train_u)"
   ]
  },
  {
   "cell_type": "code",
   "execution_count": null,
   "id": "e3e038b3",
   "metadata": {},
   "outputs": [],
   "source": [
    "print(f\"training accuracy is {LR.score(X_train_u,y_train_u)}\")  #training accuracy\n",
    "print(f\"validation accuracy is {LR.score(X_validation_u,y_validation_u)}\")\n",
    "print(f\"training f1 score is {f1_score(y_train_u,pred_LR_train_u)}\")\n",
    "print(f\"validation f1 score is {f1_score(y_validation_u,pred_LR_valid_u)}\")\n",
    "print(f\"training roc auc score is {roc_auc_score(y_train_u,pred_LR_train_u)}\")\n",
    "print(f\"validation roc auc score is {roc_auc_score(y_validation_u,pred_LR_valid_u)}\")"
   ]
  },
  {
   "cell_type": "code",
   "execution_count": null,
   "id": "94630b7f",
   "metadata": {},
   "outputs": [],
   "source": [
    "tst=[]\n",
    "trn=[]\n",
    "X_test_u=X_validation_u\n",
    "y_test_u=y_validation_u\n",
    "for i in range(1,1000):\n",
    "    clf_p = DecisionTreeClassifier(max_depth=i)\n",
    "    clf_p = clf_p.fit(X_train_u, y_train_u)\n",
    "    y_pred_test_u=clf_p.predict(X_test_u)\n",
    "    print(i)\n",
    "    print(f1_score(y_pred_test_u,y_test_u))\n",
    "    tst.append(f1_score(y_pred_test_u,y_test_u))\n",
    "    y_pred_train_u=clf_p.predict(X_train_u)\n",
    "    print(f1_score(y_pred_train_u,y_train_u))\n",
    "    trn.append(f1_score(y_pred_train_u,y_train_u))"
   ]
  },
  {
   "cell_type": "code",
   "execution_count": null,
   "id": "a8d82546",
   "metadata": {},
   "outputs": [],
   "source": [
    "plt.plot(tst)\n",
    "plt.plot(trn)"
   ]
  },
  {
   "cell_type": "code",
   "execution_count": null,
   "id": "da651a5d",
   "metadata": {},
   "outputs": [],
   "source": [
    "dot_data = tree.export_graphviz(clf_p, out_file=None, \n",
    "                      feature_names=X_train.columns,  \n",
    "                      class_names=['no','yes'],  \n",
    "                      filled=True, rounded=True,  \n",
    "                      special_characters=True)  \n",
    "graph = graphviz.Source(dot_data)  \n",
    "graph.render('AIML_final_1_super_sampled')"
   ]
  },
  {
   "cell_type": "code",
   "execution_count": null,
   "id": "cc2f5442",
   "metadata": {},
   "outputs": [],
   "source": [
    "'''Takes quite a while to execute'''\n",
    "tst=[]\n",
    "trn=[]\n",
    "auc_t=[]\n",
    "auc_v=[]\n",
    "f1_t=[]\n",
    "f1_v=[]\n",
    "for i in range(1,90):\n",
    "    rfc=RandomForestClassifier(max_depth=i, random_state=0)\n",
    "    rfc.fit(X_train_u, y_train_u)\n",
    "    y_pred_train=rfc.predict(X_train_u)\n",
    "    y_pred_test=rfc.predict(X_test_u)\n",
    "    print(f\"training f1 score is {f1_score(y_train_u,y_pred_train)}\")\n",
    "    f1_t.append(f1_score(y_train_u,y_pred_train))\n",
    "    print(f\"validation f1 score is {f1_score(y_validation_u,y_pred_test)}\")\n",
    "    f1_v.append(f1_score(y_validation_u,y_pred_test))"
   ]
  },
  {
   "cell_type": "code",
   "execution_count": null,
   "id": "6657fcd3",
   "metadata": {},
   "outputs": [],
   "source": [
    "\n",
    "plt.plot(f1_t,label='f1 score train')\n",
    "plt.plot(f1_v, label='f1 score test')\n",
    "\n",
    "plt.legend()"
   ]
  },
  {
   "cell_type": "code",
   "execution_count": null,
   "id": "ae86b156",
   "metadata": {},
   "outputs": [],
   "source": []
  },
  {
   "cell_type": "code",
   "execution_count": null,
   "id": "274b5e11",
   "metadata": {},
   "outputs": [],
   "source": []
  },
  {
   "cell_type": "code",
   "execution_count": null,
   "id": "d1b97ef0",
   "metadata": {},
   "outputs": [],
   "source": [
    "rfc=RandomForestClassifier(max_depth=17, random_state=0)\n",
    "rfc.fit(X_train, y_train)\n",
    "y_pred_train=rfc.predict(X_train)\n",
    "y_pred_test=rfc.predict(X_test)\n",
    "\n",
    "print(f\"training accuracy is {rfc.score(X_train,y_train)}\")  #training accuracy\n",
    "#trn.append(rfc.score(X_train,y_train))\n",
    "print(f\"validation accuracy is {rfc.score(X_validation,y_validation)}\")\n",
    "#tst.append(rfc.score(X_validation,y_validation))\n",
    "print(f\"training f1 score is {f1_score(y_train,y_pred_train)}\")\n",
    "#f1_t.append(f1_score(y_train,y_pred_train))\n",
    "print(f\"validation f1 score is {f1_score(y_validation,y_pred_test)}\")\n",
    "#f1_v.append(f1_score(y_validation,y_pred_test))\n",
    "print(f\"training roc auc score is {roc_auc_score(y_train,y_pred_train)}\")\n",
    "#auc_t.append(roc_auc_score(y_train,y_pred_train))\n",
    "print(f\"validation roc auc score is {roc_auc_score(y_validation,y_pred_test)}\")\n",
    "#auc_v.append(roc_auc_score(y_validation,y_pred_test))"
   ]
  },
  {
   "cell_type": "code",
   "execution_count": null,
   "id": "9307992d",
   "metadata": {},
   "outputs": [],
   "source": [
    "print(f\"training accuracy is {rfc.score(X_train,y_train)}\")  #training accuracy\n",
    "print(f\"validation accuracy is {rfc.score(X_validation,y_validation)}\")\n",
    "print(f\"training f1 score is {f1_score(y_train,y_pred_train)}\")\n",
    "print(f\"validation f1 score is {f1_score(y_validation,y_pred_test)}\")\n",
    "print(f\"training roc auc score is {roc_auc_score(y_train,y_pred_train)}\")\n",
    "print(f\"validation roc auc score is {roc_auc_score(y_validation,y_pred_test)}\")"
   ]
  },
  {
   "cell_type": "code",
   "execution_count": null,
   "id": "52b2622a",
   "metadata": {},
   "outputs": [],
   "source": [
    "abc = AdaBoostClassifier(n_estimators=1000, random_state=0)\n",
    "abc.fit(X_train, y_train)\n",
    "y_pred_train=abc.predict(X_train)\n",
    "y_pred_test=abc.predict(X_test)"
   ]
  },
  {
   "cell_type": "code",
   "execution_count": null,
   "id": "1052789a",
   "metadata": {},
   "outputs": [],
   "source": [
    "print(f\"training accuracy is {abc.score(X_train,y_train)}\")  #training accuracy\n",
    "print(f\"validation accuracy is {abc.score(X_validation,y_validation)}\")\n",
    "print(f\"training f1 score is {f1_score(y_train,y_pred_train)}\")\n",
    "print(f\"validation f1 score is {f1_score(y_test,y_pred_test)}\")\n",
    "print(f\"training roc auc score is {roc_auc_score(y_train,y_pred_train)}\")\n",
    "print(f\"validation roc auc score is {roc_auc_score(y_test,y_pred_test)}\")"
   ]
  },
  {
   "cell_type": "code",
   "execution_count": null,
   "id": "91da09f0",
   "metadata": {},
   "outputs": [],
   "source": [
    "model = Sequential()\n",
    "norm = tf.keras.layers.LayerNormalization(\n",
    "    epsilon=0.001,\n",
    "    center=True,\n",
    "    scale=True\n",
    ")\n",
    "model.add(norm)\n",
    "model.add(ThresholdedReLU(theta=10)) # Theta is a threshold which determines the output result of a particular neuron.\n",
    "model.add(Dense(200, activation='relu'))\n",
    "model.add(Dense(100, activation='softmax'))\n",
    "model.add(Dense(1, activation='sigmoid'))"
   ]
  },
  {
   "cell_type": "code",
   "execution_count": null,
   "id": "0a23948e",
   "metadata": {},
   "outputs": [],
   "source": [
    "model.compile(loss='binary_crossentropy', optimizer='adam', metrics=['accuracy'])"
   ]
  },
  {
   "cell_type": "code",
   "execution_count": null,
   "id": "9d0d3186",
   "metadata": {},
   "outputs": [],
   "source": [
    "model.fit(X_train, y_train,\n",
    "          epochs=100)"
   ]
  },
  {
   "cell_type": "code",
   "execution_count": null,
   "id": "a60fb45f",
   "metadata": {},
   "outputs": [],
   "source": [
    "model.evaluate(X_test,y_test)"
   ]
  },
  {
   "cell_type": "code",
   "execution_count": null,
   "id": "767f029f",
   "metadata": {},
   "outputs": [],
   "source": [
    "try_test=pd.read_csv('transformed_test_data.csv')"
   ]
  },
  {
   "cell_type": "code",
   "execution_count": null,
   "id": "c9c6787f",
   "metadata": {
    "scrolled": true
   },
   "outputs": [],
   "source": [
    "try_test=try_test.dropna()\n",
    "try_test=try_test.drop(columns='Unnamed: 0')\n",
    "try_test"
   ]
  },
  {
   "cell_type": "code",
   "execution_count": null,
   "id": "33738909",
   "metadata": {},
   "outputs": [],
   "source": [
    "answers = np.load('jobchange_test_target_values.npy')\n",
    "answers"
   ]
  },
  {
   "cell_type": "code",
   "execution_count": null,
   "id": "764644e6",
   "metadata": {},
   "outputs": [],
   "source": [
    "\n",
    "trn=[]\n",
    "\n",
    "auc_v=[]\n",
    "\n",
    "f1_v=[]\n",
    "for i in range(1,90):\n",
    "    rfc=RandomForestClassifier(max_depth=i, random_state=0)\n",
    "    rfc.fit(X_train, y_train)\n",
    "    y_pred_test=rfc.predict(try_test)\n",
    "    print(i)\n",
    "    print(f\"validation accuracy is {rfc.score(try_test,answers)}\")\n",
    "    trn.append(rfc.score(try_test,answers))\n",
    "    print(f\"validation f1 score is {f1_score(answers,y_pred_test)}\")\n",
    "    auc_v.append(f1_score(answers,y_pred_test))\n",
    "    print(f\"validation roc auc score is {roc_auc_score(answers,y_pred_test)}\")\n",
    "    f1_v.append(roc_auc_score(answers,y_pred_test))"
   ]
  },
  {
   "cell_type": "code",
   "execution_count": null,
   "id": "4854608a",
   "metadata": {},
   "outputs": [],
   "source": [
    "plt.plot(trn,label='train_accuracy')\n",
    "plt.plot(tst,label= 'test accuracy')\n",
    "plt.plot(auc_t,label='auc score train')\n",
    "plt.plot(auc_v,label='auc score test')\n",
    "plt.plot(f1_t,label='f1 score train')\n",
    "plt.plot(f1_v, label='f1 score test')\n",
    "plt.legend()"
   ]
  },
  {
   "cell_type": "code",
   "execution_count": null,
   "id": "aa6a878d",
   "metadata": {},
   "outputs": [],
   "source": [
    "X_train"
   ]
  },
  {
   "cell_type": "code",
   "execution_count": null,
   "id": "7cb64881",
   "metadata": {},
   "outputs": [],
   "source": [
    "try_test"
   ]
  },
  {
   "cell_type": "code",
   "execution_count": null,
   "id": "e69f13e0",
   "metadata": {},
   "outputs": [],
   "source": []
  },
  {
   "cell_type": "code",
   "execution_count": null,
   "id": "f068b316",
   "metadata": {},
   "outputs": [],
   "source": []
  }
 ],
 "metadata": {
  "kernelspec": {
   "display_name": "Python 3 (ipykernel)",
   "language": "python",
   "name": "python3"
  },
  "language_info": {
   "codemirror_mode": {
    "name": "ipython",
    "version": 3
   },
   "file_extension": ".py",
   "mimetype": "text/x-python",
   "name": "python",
   "nbconvert_exporter": "python",
   "pygments_lexer": "ipython3",
   "version": "3.8.5"
  }
 },
 "nbformat": 4,
 "nbformat_minor": 5
}
